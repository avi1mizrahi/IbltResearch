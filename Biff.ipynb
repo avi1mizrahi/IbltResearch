{
 "cells": [
  {
   "cell_type": "code",
   "execution_count": null,
   "id": "ee5cd819-fd7a-4d9b-93cb-9eb6ee0426be",
   "metadata": {},
   "outputs": [],
   "source": [
    "import math\n",
    "import itertools\n",
    "\n",
    "from functools import partial\n",
    "from collections import Counter\n",
    "from pathlib import Path\n",
    "from time import time\n",
    "\n",
    "import numpy as np\n",
    "import pandas as pd\n",
    "import matplotlib.pyplot as plt\n",
    "import matplotlib as mpl\n",
    "from matplotlib.ticker import MaxNLocator\n",
    "\n",
    "%matplotlib inline\n",
    "mpl.rcParams['figure.dpi']     = 100\n",
    "mpl.rcParams['figure.figsize'] = [10, 5]\n",
    "\n",
    "if not hasattr(math, 'comb'):\n",
    "    def math_comb(n, r):\n",
    "        f = math.factorial\n",
    "        return f(n) // (f(r) * f(n - r))\n",
    "\n",
    "\n",
    "    math.comb = math_comb\n",
    "\n",
    "import fpfz\n",
    "import primes\n",
    "from itertools_recipes import take, first_true\n",
    "\n",
    "csvdir = Path('csv')\n",
    "csvdir.mkdir(exist_ok=True)"
   ]
  },
  {
   "cell_type": "code",
   "execution_count": null,
   "id": "2849d923-4ae5-4eec-a0bf-10c60a475f09",
   "metadata": {},
   "outputs": [],
   "source": [
    "pg     = primes.Generator()\n",
    "pp     = primes.Power(pg)\n",
    "calc_u = fpfz.UniverseSizeCalculator(pg)\n",
    "calc_m = fpfz.MemoryCalculator(pg, calc_u)\n",
    "matgen = fpfz.MatrixGenerator(calc_u, calc_m, pg, rotate=False)\n",
    "\n",
    "rng = np.random.default_rng()"
   ]
  },
  {
   "cell_type": "code",
   "execution_count": null,
   "id": "89e9d95c-edbb-4919-bfc5-76b6cf12be13",
   "metadata": {},
   "outputs": [],
   "source": [
    "dicts_dir = Path('/Users/mizrahi/Library/CloudStorage/OneDrive-Technion/Data')\n",
    "dict_format = 'calc_m_{}.pkl'\n",
    "\n",
    "def load_dict():\n",
    "    d = {}\n",
    "    for l in dicts_dir.glob(dict_format.format('*')):\n",
    "        d.update(fpfz.read_from_disk(l))\n",
    "        print(f'loaded {l}, |d| = {len(d)}')\n",
    "    print('done')\n",
    "    return d"
   ]
  },
  {
   "cell_type": "code",
   "execution_count": null,
   "id": "7e9488db-1383-4b21-8bf0-2a73b11597db",
   "metadata": {},
   "outputs": [],
   "source": [
    "calc_m.rec_cache.update(load_dict())"
   ]
  },
  {
   "cell_type": "code",
   "execution_count": null,
   "id": "0446f8bf-8856-4782-8271-b63cac23614d",
   "metadata": {},
   "outputs": [],
   "source": [
    "fpfz.write_to_disk(\n",
    "    dicts_dir / dict_format.format(int(time()*100)),\n",
    "    calc_m.rec_cache\n",
    ")"
   ]
  },
  {
   "cell_type": "markdown",
   "id": "fdb81d53-bac7-4f46-b307-17e530c2f4d0",
   "metadata": {},
   "source": [
    "# Analysis"
   ]
  },
  {
   "cell_type": "markdown",
   "id": "d809aeb2-b660-4018-85da-520b9f38e986",
   "metadata": {},
   "source": [
    "## Hard error rate\n",
    "We can bound the number of errors in the whole message"
   ]
  },
  {
   "cell_type": "code",
   "execution_count": null,
   "id": "ffe51d58-4f64-4cbb-b073-9ca9a23c5adb",
   "metadata": {},
   "outputs": [],
   "source": [
    "def f(lffz, d, b, w):\n",
    "    t = math.ceil(b/w)\n",
    "    l = w + math.ceil(math.log2(t))\n",
    "    n = 2**l\n",
    "    # print(f'{t=},{w=},{l=},{n=},{d=}')\n",
    "    return 2*l*lffz(n, d)\n",
    "\n",
    "lffz   = calc_m.recursive\n",
    "egh    = calc_m.egh\n",
    "lffz_k = lambda n,d: calc_m.recursive(n, d, k=4)"
   ]
  },
  {
   "cell_type": "code",
   "execution_count": null,
   "id": "9538d876-f678-4f49-b410-b0c8a7ee8f71",
   "metadata": {
    "tags": []
   },
   "outputs": [],
   "source": [
    "b = 2**16\n",
    "\n",
    "ws_exp = np.arange(1, 1+3)\n",
    "ws = 2**ws_exp\n",
    "for d in [3, 5, 7, 11, 13]:\n",
    "    plt.plot(ws, [f(lffz, d, b, w)/b for w in ws], label=d)\n",
    "plt.xlabel('words size')\n",
    "plt.ylabel('redundancy')\n",
    "plt.loglog()\n",
    "plt.legend(title='$d$')\n",
    "plt.show()"
   ]
  },
  {
   "cell_type": "code",
   "execution_count": null,
   "id": "0cc9488f-61d8-423a-a4fd-04b2e63eddac",
   "metadata": {},
   "outputs": [],
   "source": [
    "w = 2**1\n",
    "\n",
    "bs = 2**np.arange(4, 1+20)\n",
    "df = pd.DataFrame(index=bs)\n",
    "for d in [2, 5, 7, 11]:\n",
    "    df[f'{d//2}']    = [f(lffz  , d, b, w)/b for b in bs]\n",
    "    df[f'k4_{d//2}'] = [f(lffz_k, d, b, w)/b for b in bs]\n",
    "    # plt.plot(bs, [f(egh , d, b, w)/b for b in bs], '.-', label=f'EGH{d}')\n",
    "df.plot()\n",
    "df.to_csv(csvdir / 'biff.csv', index_label='b')\n",
    "plt.xlabel('message size')\n",
    "plt.ylabel('redundancy')\n",
    "plt.loglog()\n",
    "plt.legend(title='$\\delta$')\n",
    "plt.show()"
   ]
  },
  {
   "cell_type": "code",
   "execution_count": null,
   "id": "6b67c2ce-293c-4c0b-823b-f7d4e1a63779",
   "metadata": {},
   "outputs": [],
   "source": [
    "w = 2**1\n",
    "\n",
    "bs = 2**np.arange(4, 1+21)\n",
    "for d in [2, 5, 7, 11]:\n",
    "    plt.plot(bs, [f(lffz, d, b, w)/math.log2(b) for b in bs], label=f'{d//2}')\n",
    "plt.xlabel('message size')\n",
    "plt.ylabel('???')\n",
    "plt.loglog()\n",
    "plt.legend(title='$\\delta$')\n",
    "plt.show()"
   ]
  },
  {
   "cell_type": "code",
   "execution_count": null,
   "id": "8d6135e8-b326-466f-b881-19cd8baf66d9",
   "metadata": {},
   "outputs": [],
   "source": [
    "w = 2**1\n",
    "\n",
    "bs = 2**np.arange(4, 1+21)\n",
    "for d in [2, 3, 5, 7, 9, 11]:\n",
    "    plt.plot(bs, [f(lffz, d, b, w)/(math.ceil(d/2)*math.log2(b)) for b in bs], '.-', label=f'{d}')\n",
    "plt.xlabel('message size')\n",
    "plt.ylabel('???')\n",
    "plt.loglog()\n",
    "plt.legend(title='$d$')\n",
    "plt.show()"
   ]
  },
  {
   "cell_type": "markdown",
   "id": "edea3f04-fea6-488a-890e-9660a1ea5eea",
   "metadata": {},
   "source": [
    "## Evaluation"
   ]
  },
  {
   "cell_type": "code",
   "execution_count": null,
   "id": "1e623532-2ba8-4146-9d8c-48b940f1738d",
   "metadata": {},
   "outputs": [],
   "source": [
    "lffz = lambda n,d: calc_m.recursive(n,d,None)"
   ]
  },
  {
   "cell_type": "code",
   "execution_count": null,
   "id": "39507eb5-82a2-4fa2-9621-84f985dd10ee",
   "metadata": {},
   "outputs": [],
   "source": [
    "b = 2**12\n",
    "w = 2\n",
    "t = math.ceil(b/w)\n",
    "f = math.ceil(math.log2(t))\n",
    "l = w + f\n",
    "n = 2**l\n",
    "n"
   ]
  },
  {
   "cell_type": "code",
   "execution_count": null,
   "id": "0c826d89-52a5-4dd3-8119-0cd3f730b79a",
   "metadata": {},
   "outputs": [],
   "source": [
    "e = 2\n",
    "d=2*e"
   ]
  },
  {
   "cell_type": "code",
   "execution_count": null,
   "id": "978cfa5e-03c6-4703-9abf-4c9b667118c2",
   "metadata": {},
   "outputs": [],
   "source": [
    "lffz(n=n, d=d)"
   ]
  },
  {
   "cell_type": "code",
   "execution_count": null,
   "id": "7ccb9126-98fa-4d37-b95a-8609e4b83e6f",
   "metadata": {},
   "outputs": [],
   "source": [
    "total_size = 2*l*lffz(n, d)\n",
    "total_size"
   ]
  },
  {
   "cell_type": "code",
   "execution_count": null,
   "id": "a7f8ee2e-c886-4a08-84e9-378aab8e4ce9",
   "metadata": {},
   "outputs": [],
   "source": [
    "r = total_size/b\n",
    "r"
   ]
  },
  {
   "cell_type": "code",
   "execution_count": null,
   "id": "09ba8ece-ac51-4c66-aa2c-963b39564cb5",
   "metadata": {},
   "outputs": [],
   "source": [
    "rec  = matgen.recursive(n=n, d=d)\n",
    "m    = rec.shape[1]\n",
    "iblt = matgen.iblt(n=n, m=m)\n",
    "\n",
    "assert rec.shape==iblt.shape\n",
    "\n",
    "rec  = fpfz.MatrixDecoder(rec ).is_decodable\n",
    "iblt = fpfz.MatrixDecoder(iblt).is_decodable"
   ]
  },
  {
   "cell_type": "code",
   "execution_count": null,
   "id": "7e6cc157-c89d-4d22-95d0-3e3bf3258f15",
   "metadata": {},
   "outputs": [],
   "source": [
    "def try_once(iblt, e):\n",
    "    # choose erronous bits\n",
    "    idxs = rng.choice(b, e)\n",
    "    # words\n",
    "    idxs = np.unique(idxs//w)\n",
    "\n",
    "    # random the words themselvs\n",
    "    words = rng.integers(2**w, size=len(idxs))\n",
    "    # add errors to them\n",
    "    error = words ^ (rng.integers(2**w-1, size=len(idxs))+1)\n",
    "\n",
    "    # bitwise concat\n",
    "    delta = (np.vstack([words, error]) + (idxs << w)).ravel()\n",
    "\n",
    "    # add all to the filters\n",
    "    return iblt(delta)"
   ]
  },
  {
   "cell_type": "code",
   "execution_count": null,
   "id": "00a18060-213c-4152-8ba8-54098b7c02a0",
   "metadata": {},
   "outputs": [],
   "source": [
    "def try_once_iblt(r, b, s=1, e=1):\n",
    "    n=2*e\n",
    "    w = 10\n",
    "    t = math.ceil(b/w)\n",
    "    f = math.ceil(math.log2(t))\n",
    "    l = w + f\n",
    "    m = int(b*r//(2*l))\n",
    "    return fpfz.MatrixDecoder(mmh3_iblt(m=m, n=n, s=s)).is_decodable(list(range(n)))"
   ]
  },
  {
   "cell_type": "code",
   "execution_count": null,
   "id": "b82392f3-b23a-46f2-aae9-301071a06151",
   "metadata": {},
   "outputs": [],
   "source": [
    "from mmh3 import hash as mmh3"
   ]
  },
  {
   "cell_type": "code",
   "execution_count": null,
   "id": "21720ce2-624f-4542-8258-1551ac34deb5",
   "metadata": {},
   "outputs": [],
   "source": [
    "def mmh3_iblt(m, n, s, k=4):\n",
    "    bucket_size = m / k\n",
    "    a = np.zeros((n, m), dtype=int)\n",
    "\n",
    "    for i in range(n):\n",
    "        for j in range(k):\n",
    "            b0 = round(bucket_size * j)\n",
    "            b1 = round(bucket_size * (j + 1))\n",
    "            a[i, b0 + int(mmh3(repr(j), i+s) % (b1 - b0))] = 1\n",
    "    return a"
   ]
  },
  {
   "cell_type": "code",
   "execution_count": null,
   "id": "09687b20-6da4-4675-8748-05e3c178c715",
   "metadata": {
    "tags": []
   },
   "outputs": [],
   "source": [
    "# b20 e1\n",
    "reps=1000000\n",
    "b=2**20\n",
    "for r in np.linspace(.000881195068359375, .004, num=7):\n",
    "    print(r, sum(map(lambda s: try_once_iblt(r, b, s), range(reps))))"
   ]
  },
  {
   "cell_type": "code",
   "execution_count": null,
   "id": "d1036291-381e-4b36-875b-8a6c6fd0b9b7",
   "metadata": {},
   "outputs": [],
   "source": [
    "for i in 1-(np.array([\n",
    "958147,\n",
    "999365,\n",
    "999893,\n",
    "999970,\n",
    "999989,\n",
    "999998,\n",
    "999993,\n",
    "])/reps):\n",
    "    print(f'{i:.8f}')"
   ]
  },
  {
   "cell_type": "code",
   "execution_count": null,
   "id": "ee74fda8-aaf8-45bb-aca2-d12c1a8c4174",
   "metadata": {},
   "outputs": [],
   "source": [
    "# b20 e1\n",
    "reps=1000000\n",
    "b=2**12\n",
    "for r in np.linspace(0.0888671875, .95849609375, num=7):\n",
    "    print(r, sum(map(lambda s: try_once_iblt(r, b, s), range(reps))))"
   ]
  },
  {
   "cell_type": "code",
   "execution_count": null,
   "id": "612b71e7-69c1-401b-a493-cc88d946a75a",
   "metadata": {
    "tags": []
   },
   "outputs": [],
   "source": [
    "# b20 d2 k4\n",
    "reps=100000\n",
    "for e in [1, 2, 3, 4, 5, 6, 7]:\n",
    "    print(e, '='*20)\n",
    "    print('rec ', sum(map(lambda _: try_once(rec , e), range(reps))))\n",
    "    print('iblt', sum(map(lambda _: try_once(iblt, e), range(reps))))"
   ]
  },
  {
   "cell_type": "code",
   "execution_count": null,
   "id": "4c35bedf-8c40-49a1-b835-52c6bb7a61a5",
   "metadata": {},
   "outputs": [],
   "source": [
    "# b11 d2 k4\n",
    "reps=100000\n",
    "for e in [1, 2, 3, 4, 5, 6, 7]:\n",
    "    print(e, '='*20)\n",
    "    print('rec ', sum(map(lambda _: try_once(rec , e), range(reps))))\n",
    "    print('iblt', sum(map(lambda _: try_once(iblt, e), range(reps))))"
   ]
  },
  {
   "cell_type": "code",
   "execution_count": null,
   "id": "94278fd7-2024-43bd-8af2-843021fb4dc4",
   "metadata": {},
   "outputs": [],
   "source": [
    "# b16 d4\n",
    "reps=100000\n",
    "for e in [1, 2, 3, 4, 5, 6, 7]:\n",
    "    print(e, '='*20)\n",
    "    print('rec ', sum(map(lambda _: try_once(rec , e), range(reps))))\n",
    "    print('iblt', sum(map(lambda _: try_once(iblt, e), range(reps))))"
   ]
  },
  {
   "cell_type": "code",
   "execution_count": null,
   "id": "34041cac-0098-4ba1-9c0a-af5f9299a41f",
   "metadata": {},
   "outputs": [],
   "source": [
    "# b14 d4\n",
    "reps=100000\n",
    "for e in [1, 2, 3, 4, 5, 6, 7]:\n",
    "    print(e, '='*20)\n",
    "    print('rec ', sum(map(lambda _: try_once(rec , e), range(reps))))\n",
    "    print('iblt', sum(map(lambda _: try_once(iblt, e), range(reps))))"
   ]
  },
  {
   "cell_type": "code",
   "execution_count": null,
   "id": "c29e2b48-5a5f-47e7-a95a-f845c2cb4ecc",
   "metadata": {},
   "outputs": [],
   "source": [
    "#b = 2**12\n",
    "#d = 4\n",
    "reps=100000\n",
    "for e in [1, 2, 3, 4, 5, 6, 7]:\n",
    "    print(e, '='*20)\n",
    "    print('rec ', sum(map(lambda _: try_once(rec , e), range(reps))))\n",
    "    print('iblt', sum(map(lambda _: try_once(iblt, e), range(reps))))"
   ]
  },
  {
   "cell_type": "code",
   "execution_count": null,
   "id": "7609b964-73b6-4177-9dc1-aabfe2f11145",
   "metadata": {},
   "outputs": [],
   "source": [
    "#b20\n",
    "#d=2\n",
    "reps=100000\n",
    "for e in [1, 2, 3, 4, 5, 6, 7]:\n",
    "    print(e, '='*20)\n",
    "    print('rec ', sum(map(lambda _: try_once(rec , e), range(reps))))\n",
    "    print('iblt', sum(map(lambda _: try_once(iblt, e), range(reps))))"
   ]
  },
  {
   "cell_type": "code",
   "execution_count": null,
   "id": "c3b8b624-91b0-4625-b762-dc2363e24f4e",
   "metadata": {},
   "outputs": [],
   "source": [
    "w = 10\n",
    "t = math.ceil(b/w)\n",
    "f = math.ceil(math.log2(t))\n",
    "l = w + f\n",
    "m = (total_size//(2*l))\n",
    "m"
   ]
  },
  {
   "cell_type": "code",
   "execution_count": null,
   "id": "a0cd6436-0e24-4225-b062-a9b4b4f3e6a0",
   "metadata": {},
   "outputs": [],
   "source": [
    "def try_once_iblt(e):\n",
    "    return fpfz.MatrixDecoder(matgen.random_iblt(m=m, n=2*e)).is_decodable(list(range(2*e)))"
   ]
  },
  {
   "cell_type": "code",
   "execution_count": null,
   "id": "c128a670-9f69-4053-af0f-9deae8423d47",
   "metadata": {},
   "outputs": [],
   "source": [
    "for e in [2, 3, 4, 5, 6, 7]:\n",
    "    print(e, '='*20)\n",
    "    print('iblt', sum(map(lambda _: try_once_iblt(e), range(100000))))"
   ]
  },
  {
   "cell_type": "markdown",
   "id": "17b7761d-9afa-4179-b157-867bd33f0805",
   "metadata": {
    "tags": []
   },
   "source": [
    "# bitwise error rate\n",
    "Every bit have a probability $p$ to be flipped"
   ]
  },
  {
   "cell_type": "code",
   "execution_count": null,
   "id": "2a89e461-0414-4fbd-8c1b-7b8fa6c8a7a4",
   "metadata": {},
   "outputs": [],
   "source": [
    "def p_word_f(p_bit_f, w):\n",
    "    return 1-(1-p_bit_f)**w"
   ]
  },
  {
   "cell_type": "code",
   "execution_count": null,
   "id": "19fae813-5998-43d8-940f-2ca513dbda12",
   "metadata": {},
   "outputs": [],
   "source": [
    "def rand_n_words_fail(p_bit_f, w, n_words):\n",
    "    return rng.binomial(n_words, p_word_f(p_bit_f, w))"
   ]
  },
  {
   "cell_type": "code",
   "execution_count": null,
   "id": "6bdf189d-489f-455a-ba20-4e5e8909a409",
   "metadata": {},
   "outputs": [],
   "source": [
    "ws_exp = np.arange(1, 1+5)\n",
    "ws = 2**ws_exp\n",
    "for p in 1/10**np.arange(3,1+7):\n",
    "    plt.plot(ws, p_word_f(p, ws), label=p)\n",
    "plt.loglog()\n",
    "plt.legend();"
   ]
  },
  {
   "cell_type": "markdown",
   "id": "2cf96619-29e4-4155-81f6-7f63c0186505",
   "metadata": {
    "tags": []
   },
   "source": [
    "## Lets go straight empirical\n",
    "No time to spend on the interesting things :("
   ]
  },
  {
   "cell_type": "code",
   "execution_count": null,
   "id": "426f6424-c7a9-4eb2-a4ca-6d9d73d575ec",
   "metadata": {},
   "outputs": [],
   "source": [
    "# probability for a single bit flip\n",
    "p = 1/10**5\n",
    "\n",
    "b = 2**20\n",
    "w = 2\n",
    "t = math.ceil(b/w)\n",
    "f = math.ceil(math.log2(t))\n",
    "l = w + f\n",
    "n = 2**l\n",
    "n"
   ]
  },
  {
   "cell_type": "code",
   "execution_count": null,
   "id": "3e1b82ab-1d86-4ae4-9930-15fff3e999f2",
   "metadata": {},
   "outputs": [],
   "source": [
    "rec  = matgen.recursive(n=n, d=5)\n",
    "m    = rec.shape[1]\n",
    "iblt = matgen.iblt(n=n, m=m)\n",
    "\n",
    "assert rec.shape==iblt.shape\n",
    "\n",
    "rec  = fpfz.MatrixDecoder(rec ).is_decodable\n",
    "iblt = fpfz.MatrixDecoder(iblt).is_decodable"
   ]
  },
  {
   "cell_type": "code",
   "execution_count": null,
   "id": "3bd9ff10-65d7-43f2-9596-ba4b9e04ac92",
   "metadata": {},
   "outputs": [],
   "source": [
    "def try_once(tests):\n",
    "    # first, randomize the number of errornoues words\n",
    "    nf = rand_n_words_fail(p, w, b//w)\n",
    "\n",
    "    # for each word, choose index\n",
    "    idxs = rng.choice(t, nf, replace=False)\n",
    "\n",
    "    # random the words themselvs\n",
    "    words = rng.integers(2**w, size=nf)\n",
    "    # add errors to them\n",
    "    error = words ^ (rng.integers(2**w-1, size=nf)+1)\n",
    "\n",
    "    # bitwise concat\n",
    "    delta = (np.vstack([words, error]) + (idxs << w)).ravel()\n",
    "\n",
    "    # add all to the filters\n",
    "    return np.fromiter((t(delta) for t in tests), dtype=bool)"
   ]
  },
  {
   "cell_type": "code",
   "execution_count": null,
   "id": "47259566-4bc3-4cae-8450-1bba28b2e6b0",
   "metadata": {},
   "outputs": [],
   "source": [
    "sum(map(lambda _: try_once((rec,iblt)), range(10000)))"
   ]
  },
  {
   "cell_type": "code",
   "execution_count": null,
   "id": "75e97ba6-28bb-42de-99b3-d812aeae31e0",
   "metadata": {},
   "outputs": [],
   "source": []
  }
 ],
 "metadata": {
  "kernelspec": {
   "display_name": "Python 3",
   "language": "python",
   "name": "python3"
  },
  "language_info": {
   "codemirror_mode": {
    "name": "ipython",
    "version": 3
   },
   "file_extension": ".py",
   "mimetype": "text/x-python",
   "name": "python",
   "nbconvert_exporter": "python",
   "pygments_lexer": "ipython3",
   "version": "3.9.7"
  }
 },
 "nbformat": 4,
 "nbformat_minor": 5
}
