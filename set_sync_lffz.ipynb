{
 "cells": [
  {
   "cell_type": "code",
   "execution_count": null,
   "id": "dbbf4d3f-dc06-4cc6-9edc-54fd2b721924",
   "metadata": {},
   "outputs": [],
   "source": [
    "from pathlib import Path\n",
    "\n",
    "import pandas as pd\n",
    "import numpy as np\n",
    "\n",
    "import fpfz\n",
    "import primes\n",
    "\n",
    "dicts_dir = Path('.')\n",
    "dict_format = 'calc_m_{}.pkl'\n",
    "\n",
    "def load_dict():\n",
    "    d = {}\n",
    "    for l in dicts_dir.glob(dict_format.format('*')):\n",
    "        d.update(fpfz.read_from_disk(l))\n",
    "        print(f'loaded {l}, |d| = {len(d)}')\n",
    "    print('done')\n",
    "    return d\n",
    "\n",
    "def dump_dict(d):\n",
    "    from time import time\n",
    "    fpfz.write_to_disk(\n",
    "        dicts_dir / dict_format.format(int(time()*100)),\n",
    "        d\n",
    "    )"
   ]
  },
  {
   "cell_type": "code",
   "execution_count": null,
   "id": "315ddf50-da91-4842-ba0c-e57257ea035b",
   "metadata": {},
   "outputs": [],
   "source": [
    "pg     = primes.Generator()\n",
    "pp     = primes.Power(pg)\n",
    "calc_u = fpfz.UniverseSizeCalculator(pg)\n",
    "calc_m = fpfz.MemoryCalculator(pg, calc_u, rec_cache=load_dict())"
   ]
  },
  {
   "cell_type": "code",
   "execution_count": null,
   "id": "5eb41605-0e1b-415e-bd32-f95ef7bb544c",
   "metadata": {},
   "outputs": [],
   "source": [
    "# dump_dict(calc_m.rec_cache)"
   ]
  },
  {
   "cell_type": "code",
   "execution_count": null,
   "id": "977d6b33-a1da-40ed-ad19-a921629782d6",
   "metadata": {},
   "outputs": [],
   "source": [
    "cell_factor = 3"
   ]
  },
  {
   "cell_type": "markdown",
   "id": "933fe43b-7abd-4c73-8a52-83f6a7b94ca9",
   "metadata": {
    "jp-MarkdownHeadingCollapsed": true,
    "tags": []
   },
   "source": [
    "## Build data for LFFZ"
   ]
  },
  {
   "cell_type": "code",
   "execution_count": null,
   "id": "440769c7-7171-4c6b-abbe-abc41777f762",
   "metadata": {},
   "outputs": [],
   "source": [
    "hc = pd.read_csv('csv/hash_collision.csv')\n",
    "hc['fail_prob'] = hc.n_fail / hc.reps\n",
    "hc = hc.pivot_table(index=['n', 'N']).drop(columns=['n_fail', 'reps']).fail_prob"
   ]
  },
  {
   "cell_type": "code",
   "execution_count": null,
   "id": "e4a800b8-14ad-4d5a-abae-f73f7d639d49",
   "metadata": {},
   "outputs": [],
   "source": [
    "def hash_collision_prob(n_items, n_buckets):\n",
    "    try:\n",
    "        return hc[n_items, n_buckets]\n",
    "    except KeyError:\n",
    "        print(f'not found {log_items=} {n_buckets=}')\n",
    "        return fpfz.hash_collision_prob(n_items, n_buckets)"
   ]
  },
  {
   "cell_type": "code",
   "execution_count": null,
   "id": "afcdd3f0-6a9a-4676-bbc0-53d138fe3f32",
   "metadata": {},
   "outputs": [],
   "source": [
    "def compute_method_for_phis_range(method_n, p, n, phis, cell_size):\n",
    "    return method_n(n)*cell_size + p(n)*phis\n",
    "\n",
    "def find_best_lffz_per_phi(method_n, p, phis, ns, cell_size):\n",
    "    res = np.empty((len(ns), len(phis)), dtype=int)\n",
    "    for i, n in enumerate(ns):\n",
    "        res[i] = compute_method_for_phis_range(method_n, p, n, phis, cell_size)\n",
    "    return res\n",
    "\n",
    "def find_best_lffz_for_N(method_nd, N, phis, log_n, cell_factor, density=2**10):\n",
    "    ns = hc.index.unique(level='n')\n",
    "    ns = ns[(N <= ns) & (ns <=  2**log_n)]\n",
    "\n",
    "    return find_best_lffz_per_phi(\n",
    "        method_n=lambda n: method_nd(n=n, d=N),\n",
    "        p=lambda n: hash_collision_prob(n_items=n, n_buckets=N) if n!=2**log_n else 0,\n",
    "        phis=phis,\n",
    "        ns=ns,\n",
    "        cell_size=cell_factor*log_n,\n",
    "    ).min(axis=0)\n",
    "\n",
    "def find_best_lffz_for_method(method_nd, Ns, phis, log_n, cell_factor, cb):\n",
    "    res = np.empty((len(Ns), len(phis)), dtype=int)\n",
    "    for i,N in enumerate(Ns):\n",
    "        res[i] = find_best_lffz_for_N(method_nd, N, phis, log_n, cell_factor)\n",
    "        cb(i, len(Ns))\n",
    "\n",
    "    return res"
   ]
  },
  {
   "cell_type": "code",
   "execution_count": null,
   "id": "72db3061-0b8f-4c47-96c5-76329b438e31",
   "metadata": {},
   "outputs": [],
   "source": [
    "methods = {\n",
    "    'OLS': lambda n, d: calc_m.ols(n=n, d=d-1),\n",
    "    'EGH': lambda n, d: calc_m.egh(n=n, d=d-1),\n",
    "    'REC': calc_m.recursive,\n",
    "}"
   ]
  },
  {
   "cell_type": "code",
   "execution_count": null,
   "id": "184901c9-27eb-4035-a338-64d5ed559a47",
   "metadata": {},
   "outputs": [],
   "source": [
    "Ns     = np.arange(3, 20)\n",
    "phis   = 2**np.arange(5, 35)\n",
    "log_ns = [\n",
    "    # 8,\n",
    "    16,\n",
    "]"
   ]
  },
  {
   "cell_type": "code",
   "execution_count": null,
   "id": "d0e02b6c-0e9c-4706-bbaf-71839ee2efc9",
   "metadata": {},
   "outputs": [],
   "source": [
    "from ipywidgets import IntProgress\n",
    "bar = IntProgress()\n",
    "\n",
    "def progress(i, size):\n",
    "    i += 1\n",
    "    bar.value = i\n",
    "    bar.max   = size\n",
    "    bar.description = f'{i/size:3.3%}'\n",
    "\n",
    "bar"
   ]
  },
  {
   "cell_type": "code",
   "execution_count": null,
   "id": "22f7997e-025a-4cea-9daa-23d4281af3d9",
   "metadata": {},
   "outputs": [],
   "source": [
    "lffz_res = []\n",
    "\n",
    "for method, f in methods.items():\n",
    "    res = np.empty((len(log_ns), len(Ns), len(phis)), dtype=int)\n",
    "\n",
    "    print(method)\n",
    "\n",
    "    for i,log_n in enumerate(log_ns):\n",
    "        bar.value = i\n",
    "        res[i] = find_best_lffz_for_method(f, Ns, phis, log_n, cell_factor, cb=progress)\n",
    "\n",
    "    lffz_res.append(res)\n",
    "\n",
    "lffz_res = np.stack(lffz_res)"
   ]
  },
  {
   "cell_type": "markdown",
   "id": "19b5b311-fc30-4540-bef6-447c404efb84",
   "metadata": {
    "tags": []
   },
   "source": [
    "### Create DataFrame from result array"
   ]
  },
  {
   "cell_type": "code",
   "execution_count": null,
   "id": "c3fb8d65-190f-4ddf-863c-7c7f8aa63d06",
   "metadata": {},
   "outputs": [],
   "source": [
    "df = []\n",
    "for i, method in enumerate(methods):\n",
    "    for j, log_n in enumerate(log_ns):\n",
    "        for k, N in enumerate(Ns):\n",
    "            for l, phi in enumerate(phis):\n",
    "                df.append((method, log_n, N, phi, lffz_res[i, j, k, l]))\n",
    "\n",
    "lffz_df = pd.DataFrame.from_records(df, columns=('method', 'log_n', 'N', 'phi', 'expected_size'))\n",
    "lffz_df"
   ]
  },
  {
   "cell_type": "markdown",
   "id": "f1b5d3d9-f3ab-4ed1-8113-c52f70d72288",
   "metadata": {
    "jp-MarkdownHeadingCollapsed": true,
    "tags": []
   },
   "source": [
    "## Build DataFrame for IBLT"
   ]
  },
  {
   "cell_type": "markdown",
   "id": "22845633-3f41-4fe2-bc8d-e0f7ad7a679a",
   "metadata": {},
   "source": [
    "#### Basic properties"
   ]
  },
  {
   "cell_type": "code",
   "execution_count": null,
   "id": "b132ba19-280b-4d8c-acb7-10e548a04f14",
   "metadata": {},
   "outputs": [],
   "source": [
    "df = pd.read_csv('csv/IBLT_decoding_stats.csv')\n",
    "df['p_fail'] = 1 - df.n_success / df.reps\n",
    "df['table_size'] = df.m * df.log_n * cell_factor\n",
    "df.drop(columns=['reps', 'n_success'], inplace=True)\n",
    "df"
   ]
  },
  {
   "cell_type": "markdown",
   "id": "1509cdc0-f64d-4716-a850-8484e43161dc",
   "metadata": {
    "tags": []
   },
   "source": [
    "#### size per phi"
   ]
  },
  {
   "cell_type": "code",
   "execution_count": null,
   "id": "3f5572fe-cad4-4764-88e3-b5a4d35b1171",
   "metadata": {},
   "outputs": [],
   "source": [
    "df = df.merge(pd.Series(phis, name='phi'), how='cross')\n",
    "df['expected_size'] = np.ceil(df.table_size + df.p_fail*df.phi).astype(int)\n",
    "df"
   ]
  },
  {
   "cell_type": "markdown",
   "id": "5684238f-fe53-435b-95ee-14e0da0ee13d",
   "metadata": {},
   "source": [
    "#### Take the minimum per comb"
   ]
  },
  {
   "cell_type": "code",
   "execution_count": null,
   "id": "a4cffd3b-599b-4a15-8362-2b296c45df26",
   "metadata": {},
   "outputs": [],
   "source": [
    "iblt_df = df.groupby(['log_n', 'N', 'phi']).expected_size.min().reset_index()\n",
    "iblt_df"
   ]
  },
  {
   "cell_type": "markdown",
   "id": "51219062-97ae-4785-9d16-cd5a17dc4690",
   "metadata": {
    "jp-MarkdownHeadingCollapsed": true,
    "tags": []
   },
   "source": [
    "## Combining all"
   ]
  },
  {
   "cell_type": "markdown",
   "id": "aefe891c-52e0-4e6b-9607-cb87bd698171",
   "metadata": {},
   "source": [
    "### Using ratio from IBF"
   ]
  },
  {
   "cell_type": "code",
   "execution_count": null,
   "id": "d7fcc6f2-86c8-4952-badb-142c993ab82c",
   "metadata": {},
   "outputs": [],
   "source": [
    "df = pd.merge(lffz_df, iblt_df, how='left', on=['log_n', 'N', 'phi'], suffixes=('', '_IBF'))\n",
    "df['expected_size_ratio'] = df.expected_size / df.expected_size_IBF\n",
    "df"
   ]
  },
  {
   "cell_type": "markdown",
   "id": "e2d9cb04-ce6b-4f77-b975-e8496a90b3fd",
   "metadata": {
    "jp-MarkdownHeadingCollapsed": true,
    "tags": []
   },
   "source": [
    "## Plot"
   ]
  },
  {
   "cell_type": "code",
   "execution_count": null,
   "id": "1aad65f5-6896-4203-85df-bb35f05b7568",
   "metadata": {},
   "outputs": [],
   "source": [
    "import plotly.express as px\n",
    "import plotly.graph_objects as go\n",
    "import seaborn as sns\n",
    "sns.set_theme()"
   ]
  },
  {
   "cell_type": "code",
   "execution_count": null,
   "id": "5d802e92-52a0-4df5-baeb-ccd48588c930",
   "metadata": {},
   "outputs": [],
   "source": [
    "px.defaults.height = 700"
   ]
  },
  {
   "cell_type": "code",
   "execution_count": null,
   "id": "1288f4c8-c01a-4354-aadb-3d6d10623cb3",
   "metadata": {},
   "outputs": [],
   "source": [
    "sub = df[\n",
    "    (df.log_n==16) &\n",
    "    (df.expected_size_ratio<1) &\n",
    "    # (df.phi<=10**10) &\n",
    "    (True)\n",
    "]"
   ]
  },
  {
   "cell_type": "code",
   "execution_count": null,
   "id": "1a2abfbb-e456-4092-941b-a30d22f39ed9",
   "metadata": {},
   "outputs": [],
   "source": [
    "fig = px.scatter_3d(sub, x='N', y='phi', z='expected_size_ratio', symbol='method', color='method', log_z=True, log_y=True)\n",
    "fig.show()"
   ]
  },
  {
   "cell_type": "code",
   "execution_count": null,
   "id": "3b82e7f2-bc87-483d-8624-5985499603fc",
   "metadata": {
    "tags": []
   },
   "outputs": [],
   "source": [
    "g = sns.relplot(\n",
    "    data=sub,\n",
    "    kind=\"line\",\n",
    "    x=\"phi\",\n",
    "    y=\"expected_size_ratio\",\n",
    "    col=\"N\",\n",
    "    hue=\"method\",\n",
    "    # size=\"coherence\",\n",
    "    style=\"method\",\n",
    "    facet_kws=dict(sharey=False),\n",
    "    col_wrap=3,\n",
    ")\n",
    "g.set(xscale=\"log\")\n",
    "g.set(yscale=\"log\")"
   ]
  },
  {
   "cell_type": "code",
   "execution_count": null,
   "id": "2a5b579f-4cbd-4f67-a814-c28fba8adab0",
   "metadata": {},
   "outputs": [],
   "source": [
    "sub = df[(df.expected_size_ratio <= 1.3) & (df.log_n==16) & (df.N==12)]\n",
    "\n",
    "fig = px.scatter(sub, x='phi', y='expected_size_ratio', symbol='method', color='method', log_x=True, log_y=True)\n",
    "fig.show()"
   ]
  },
  {
   "cell_type": "markdown",
   "id": "da15a855-9b76-4f9d-84e9-7051cff8df2b",
   "metadata": {
    "jp-MarkdownHeadingCollapsed": true,
    "tags": []
   },
   "source": [
    "#### Sanity check for good case"
   ]
  },
  {
   "cell_type": "markdown",
   "id": "f5a72277-5fb8-41ea-bedc-ce8bca20bc7c",
   "metadata": {},
   "source": [
    "FPFZ total cost:"
   ]
  },
  {
   "cell_type": "code",
   "execution_count": null,
   "id": "ed323adc-3247-45b0-8559-be2500d6bb86",
   "metadata": {},
   "outputs": [],
   "source": [
    "log_n = 12\n",
    "phi = 268435456\n",
    "N = 16"
   ]
  },
  {
   "cell_type": "code",
   "execution_count": null,
   "id": "e821e216-be3c-40d8-913b-4b2598d32bcd",
   "metadata": {},
   "outputs": [],
   "source": [
    "phis"
   ]
  },
  {
   "cell_type": "code",
   "execution_count": null,
   "id": "a588c893-f4d5-4d6b-ab40-cc53a4baeda4",
   "metadata": {},
   "outputs": [],
   "source": [
    "n = 65536"
   ]
  },
  {
   "cell_type": "code",
   "execution_count": null,
   "id": "723efcb1-129e-4645-97ea-ae79566f4173",
   "metadata": {},
   "outputs": [],
   "source": [
    "fpfz_table_size = calc_m.recursive(n=n, d=N) * cell_factor * log_n \n",
    "print(f'{fpfz_table_size:,}b')"
   ]
  },
  {
   "cell_type": "markdown",
   "id": "4746d10c-ceed-4da6-88a1-727e61b9ec7f",
   "metadata": {},
   "source": [
    "The penalty in terms of elements:"
   ]
  },
  {
   "cell_type": "code",
   "execution_count": null,
   "id": "2bbd2f36-a522-4096-a9cd-2caaa34ed690",
   "metadata": {},
   "outputs": [],
   "source": [
    "f'{phi // log_n:,}'"
   ]
  },
  {
   "cell_type": "markdown",
   "id": "545cfb0c-7845-447a-acb0-bc2822c8ec59",
   "metadata": {},
   "source": [
    "The expected size:"
   ]
  },
  {
   "cell_type": "code",
   "execution_count": null,
   "id": "de1cf592-8fec-43a8-89f1-c1fbc4237583",
   "metadata": {},
   "outputs": [],
   "source": [
    "fpfz_expected_size = fpfz_table_size + phi * hash_collision_prob(n_buckets=N, n_items=n)\n",
    "print(f'{fpfz_expected_size:,}b')"
   ]
  },
  {
   "cell_type": "code",
   "execution_count": null,
   "id": "ac6071e8-e704-408a-bd48-a60cd3349a87",
   "metadata": {},
   "outputs": [],
   "source": [
    "iblt_df[(iblt_df.log_n==log_n) & (iblt_df.N==N) & (iblt_df.phi==phi)]"
   ]
  },
  {
   "cell_type": "markdown",
   "id": "9dfc4866-3662-4c36-ad48-011bb377e1d3",
   "metadata": {
    "jp-MarkdownHeadingCollapsed": true,
    "tags": []
   },
   "source": [
    "#### Sanity check"
   ]
  },
  {
   "cell_type": "code",
   "execution_count": null,
   "id": "33987e48-bd5e-471c-a7af-95f96dfe479a",
   "metadata": {},
   "outputs": [],
   "source": [
    "lffz_df.iloc[[2128]]"
   ]
  },
  {
   "cell_type": "code",
   "execution_count": null,
   "id": "814cd10a-bf7a-4b73-ad03-a478fd0ba7f1",
   "metadata": {},
   "outputs": [],
   "source": [
    "sub = df[(df.log_n==16) & (df.N==3) & (df.phi==8192)]"
   ]
  },
  {
   "cell_type": "code",
   "execution_count": null,
   "id": "3ef7337d-0dad-413f-9bcf-01cb0527fb2d",
   "metadata": {},
   "outputs": [],
   "source": [
    "sub.iloc[[sub.expected_size.argmin()]]"
   ]
  },
  {
   "cell_type": "code",
   "execution_count": null,
   "id": "f8d9395e-2830-4a34-a37f-1a8a2a37f18f",
   "metadata": {},
   "outputs": [],
   "source": [
    "433/507"
   ]
  },
  {
   "cell_type": "code",
   "execution_count": null,
   "id": "accb115f-3cfa-4274-a9ae-ced0ff57a7aa",
   "metadata": {},
   "outputs": [],
   "source": [
    "iblt_df[(iblt_df.log_n==16) & (iblt_df.N==13) & (iblt_df.phi==1024)]"
   ]
  },
  {
   "cell_type": "code",
   "execution_count": null,
   "id": "c5d9ed95-26e2-415c-8227-e47cc4998161",
   "metadata": {},
   "outputs": [],
   "source": [
    "df[(df.N==13) & (df.log_n==16) & (df.phi==1024) & (df.expected_size==1389.)]"
   ]
  },
  {
   "cell_type": "code",
   "execution_count": null,
   "id": "b05d7d05-78e1-4011-be6a-902c24dfc341",
   "metadata": {},
   "outputs": [],
   "source": [
    "lffz_df[(lffz_df.N==13) & (lffz_df.log_n==16) & (lffz_df.phi==1024)]"
   ]
  },
  {
   "cell_type": "markdown",
   "id": "c1078f19-a943-4255-9ad6-1ff65cd87658",
   "metadata": {
    "jp-MarkdownHeadingCollapsed": true,
    "tags": []
   },
   "source": [
    "# Backyard"
   ]
  },
  {
   "cell_type": "code",
   "execution_count": null,
   "id": "6ddedf3f-5e35-4017-90fd-cd0914f53fcb",
   "metadata": {},
   "outputs": [],
   "source": [
    "for n in np.geomspace(N, 2**log_n, num=100, dtype=int):\n",
    "    I = calc_m.ols(n, d=N) * cell_size\n",
    "    p = fpfz.hash_collision_prob(N, n)\n",
    "    res = I+p*phis\n",
    "\n",
    "print(res)"
   ]
  },
  {
   "cell_type": "code",
   "execution_count": null,
   "id": "3499574f-f706-4456-bf0d-fcba3447499c",
   "metadata": {},
   "outputs": [],
   "source": [
    "df[['log_n', 'N', 'm']].value_counts().index"
   ]
  },
  {
   "cell_type": "code",
   "execution_count": null,
   "id": "6e667406-66b4-47eb-a027-0aa24bea16f0",
   "metadata": {},
   "outputs": [],
   "source": [
    "calc_m.ols()"
   ]
  },
  {
   "cell_type": "code",
   "execution_count": null,
   "id": "e252e640-e4f3-402e-a6cb-8e76640cefee",
   "metadata": {},
   "outputs": [],
   "source": [
    "dots = sns.load_dataset('dots')"
   ]
  },
  {
   "cell_type": "code",
   "execution_count": null,
   "id": "d302a405-e044-45e3-865b-ab5209a7cf55",
   "metadata": {},
   "outputs": [],
   "source": [
    "dots"
   ]
  },
  {
   "cell_type": "code",
   "execution_count": null,
   "id": "882a224a-dc5b-4e9a-b8df-6c0999762559",
   "metadata": {},
   "outputs": [],
   "source": [
    "sns.relplot(\n",
    "    data=dots, kind=\"line\",\n",
    "    x=\"time\", y=\"firing_rate\", col=\"align\",\n",
    "    hue=\"choice\", size=\"coherence\", style=\"choice\",\n",
    "    facet_kws=dict(sharex=False),\n",
    ")\n"
   ]
  },
  {
   "cell_type": "markdown",
   "id": "ead6fa42-7990-407c-9b57-99c83741198b",
   "metadata": {
    "tags": []
   },
   "source": [
    "### Plotly"
   ]
  },
  {
   "cell_type": "code",
   "execution_count": null,
   "id": "cdb81878-fcd8-4f58-abbd-1ada05e931dc",
   "metadata": {},
   "outputs": [],
   "source": [
    "import plotly.express as px\n",
    "fig = px.bar(x=[\"a\", \"b\", \"c\"], y=[1, 3, 2])\n",
    "fig.layout.title = 'what'\n",
    "fig.show()"
   ]
  },
  {
   "cell_type": "code",
   "execution_count": null,
   "id": "65df2665-8273-4bf4-bcca-78a99f2b7f00",
   "metadata": {},
   "outputs": [],
   "source": [
    "fig.layout.title = 'asdfa'"
   ]
  },
  {
   "cell_type": "code",
   "execution_count": null,
   "id": "ca692ab6-c112-4f9f-aa8f-bbbd709b37c2",
   "metadata": {},
   "outputs": [],
   "source": []
  },
  {
   "cell_type": "markdown",
   "id": "417f56ad-ea80-44d3-bed2-8e234b08a2ce",
   "metadata": {},
   "source": [
    "**TODO**: add lffz to the table with column with the method tag. Try choosing the best lffz?"
   ]
  }
 ],
 "metadata": {
  "kernelspec": {
   "display_name": "Python 3 (ipykernel)",
   "language": "python",
   "name": "python3"
  },
  "language_info": {
   "codemirror_mode": {
    "name": "ipython",
    "version": 3
   },
   "file_extension": ".py",
   "mimetype": "text/x-python",
   "name": "python",
   "nbconvert_exporter": "python",
   "pygments_lexer": "ipython3",
   "version": "3.10.6"
  }
 },
 "nbformat": 4,
 "nbformat_minor": 5
}
