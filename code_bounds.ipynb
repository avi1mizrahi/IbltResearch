{
 "cells": [
  {
   "cell_type": "code",
   "execution_count": null,
   "id": "d295168f",
   "metadata": {},
   "outputs": [],
   "source": [
    "import hashlib\n",
    "import itertools\n",
    "import math\n",
    "import random\n",
    "\n",
    "from collections import Counter\n",
    "from functools import partial\n",
    "from pathlib import Path\n",
    "from sys import getsizeof\n",
    "from time import time, process_time_ns\n",
    "\n",
    "import matplotlib.pyplot as plt\n",
    "import matplotlib as mpl\n",
    "from matplotlib.ticker import MaxNLocator\n",
    "import numpy as np\n",
    "import pandas as pd\n",
    "import plotly.express as px\n",
    "import plotly.graph_objects as go\n",
    "\n",
    "%matplotlib inline\n",
    "mpl.rcParams['figure.dpi']     = 100\n",
    "mpl.rcParams['figure.figsize'] = [10, 5]\n",
    "\n",
    "px.defaults.height = 600\n",
    "\n",
    "if not hasattr(math, 'comb'):\n",
    "    def math_comb(n, r):\n",
    "        f = math.factorial\n",
    "        return f(n) // (f(r) * f(n - r))\n",
    "\n",
    "\n",
    "    math.comb = math_comb\n",
    "\n",
    "import fpfz\n",
    "import primes\n",
    "from itertools_recipes import take, first_true"
   ]
  },
  {
   "cell_type": "code",
   "execution_count": null,
   "id": "92b7db04-679d-4fc4-92ed-07da1e5b36e5",
   "metadata": {},
   "outputs": [],
   "source": [
    "pg     = primes.Generator()\n",
    "pp     = primes.Power(pg)\n",
    "calc_u = fpfz.UniverseSizeCalculator(pg)\n",
    "calc_m = fpfz.MemoryCalculator(pg, calc_u)\n",
    "matgen = fpfz.MatrixGenerator(calc_u, calc_m, pg, rotate=False)\n",
    "\n",
    "rng = np.random.default_rng()"
   ]
  },
  {
   "cell_type": "code",
   "execution_count": null,
   "id": "ae067666-ea88-4899-8dfc-4b885407e909",
   "metadata": {},
   "outputs": [],
   "source": [
    "dicts_dir = Path('.')\n",
    "dict_format = 'calc_m_{}.pkl'\n",
    "\n",
    "def load_dict(d=None):\n",
    "    if not d:\n",
    "        d = {}\n",
    "    for l in dicts_dir.glob(dict_format.format('*')):\n",
    "        d.update(fpfz.read_from_disk(l))\n",
    "        print(f'loaded {l}, |d| = {len(d)}')\n",
    "    print('done')\n",
    "    return d"
   ]
  },
  {
   "cell_type": "code",
   "execution_count": null,
   "id": "0aa416db-2c14-42d9-95d2-13c2eba1eaee",
   "metadata": {},
   "outputs": [],
   "source": [
    "calc_m.rec_cache.update(load_dict())"
   ]
  },
  {
   "cell_type": "code",
   "execution_count": null,
   "id": "665e5ee9-b51b-40fd-aa76-f93df37ce635",
   "metadata": {},
   "outputs": [],
   "source": [
    "def dump_dict():\n",
    "    print('dumping dict')\n",
    "    fpfz.write_to_disk(\n",
    "        dicts_dir / dict_format.format(int(time()*100)),\n",
    "        calc_m.rec_cache\n",
    "    )"
   ]
  },
  {
   "cell_type": "markdown",
   "id": "243ddf15-30ec-4969-b03c-59af1b3a64f5",
   "metadata": {
    "jp-MarkdownHeadingCollapsed": true,
    "tags": []
   },
   "source": [
    "# Runtime comparisons"
   ]
  },
  {
   "cell_type": "markdown",
   "id": "51a68692-1c14-4ee1-a621-9d7d66ac00b2",
   "metadata": {},
   "source": [
    "#### Load csvs"
   ]
  },
  {
   "cell_type": "code",
   "execution_count": null,
   "id": "45ba7d2e-3cc6-4794-b79e-2d1010f542ff",
   "metadata": {},
   "outputs": [],
   "source": [
    "workdir = Path('space_measure/')"
   ]
  },
  {
   "cell_type": "code",
   "execution_count": null,
   "id": "cc184320-b343-4d9f-844a-213e9b742dfd",
   "metadata": {},
   "outputs": [],
   "source": [
    "def prepare_single_rowed_csv(df):\n",
    "    df = df.melt(id_vars=['n', 'alg', 'm'], var_name='method', value_name='bits')\n",
    "    return df\n",
    "\n",
    "df = pd.concat(\n",
    "    map(prepare_single_rowed_csv, map(pd.read_csv, workdir.glob('*.csv')))\n",
    ", ignore_index=True).sort_values('n')\n",
    "\n",
    "df"
   ]
  },
  {
   "cell_type": "code",
   "execution_count": null,
   "id": "9dfbd734-e7fc-4eb1-b9be-607e00812844",
   "metadata": {},
   "outputs": [],
   "source": [
    "px.line(df, x='n', color='alg', y='bits', log_y=True, log_x=True, facet_col='method')"
   ]
  },
  {
   "cell_type": "code",
   "execution_count": null,
   "id": "823d9bdc-91c8-44b9-9841-79f4f3fe34e2",
   "metadata": {},
   "outputs": [],
   "source": [
    "df[(df.alg=='REC7k14') & (df.n==2**20)]"
   ]
  },
  {
   "cell_type": "code",
   "execution_count": null,
   "id": "04c83614-41b3-4c07-91fd-e2eee235625d",
   "metadata": {},
   "outputs": [],
   "source": [
    "value = 'bits'\n",
    "for method in df.method.unique():\n",
    "    csv_df = df[df.method==method].copy()\n",
    "    csv_df = csv_df.pivot_table(index='n', columns=['alg'], values=[value])[value]\n",
    "\n",
    "    name = (\n",
    "        'Matrix' if method=='M' else\n",
    "        'Sparse' if method=='S' else\n",
    "        'Column' if method=='C' else\n",
    "        '??????'\n",
    "    )\n",
    "    csv_df.to_csv(f'space_measure_{name}.csv')"
   ]
  },
  {
   "cell_type": "code",
   "execution_count": null,
   "id": "2db8464f-3769-482f-86a1-7c5d751ba77b",
   "metadata": {},
   "outputs": [],
   "source": [
    "workdir = Path('measuring_clean/')"
   ]
  },
  {
   "cell_type": "code",
   "execution_count": null,
   "id": "6c11e70d-2c79-418b-8519-86105a65cb53",
   "metadata": {
    "scrolled": true
   },
   "outputs": [],
   "source": [
    "def prepare_single_rowed_csv(df):\n",
    "    df = df.melt(id_vars=['n', 'rep'], var_name='alg', value_name='total_time_ns')\n",
    "    return df\n",
    "\n",
    "df = pd.concat(\n",
    "    map(prepare_single_rowed_csv, map(pd.read_csv, workdir.glob('*.csv')))\n",
    ", ignore_index=True)#.set_index('n').sort_index()\n",
    "\n",
    "def gen_mmh_df(df):\n",
    "    mmh_df = df[df.alg == df.iloc[df.n.argmax()].alg].copy()\n",
    "    mmh_df.alg = 'C_MMH3'\n",
    "    mmh_df.rep = 1\n",
    "    mmh_df.total_time_ns = 2717.824865 * 10**6\n",
    "    return mmh_df\n",
    "\n",
    "df = pd.concat([df, gen_mmh_df(df)])"
   ]
  },
  {
   "cell_type": "code",
   "execution_count": null,
   "id": "aaad5d92-70f3-4cc3-9c93-3b134a2fe4ec",
   "metadata": {},
   "outputs": [],
   "source": [
    "df = df.pivot_table(index=['n', 'alg'], values='total_time_ns')['total_time_ns'].reset_index()\n",
    "\n",
    "df['total_time_us'] = df['total_time_ns'] / 10**3\n",
    "df['total_time_ms'] = df['total_time_ns'] / 10**6\n",
    "\n",
    "df['mean_time_us'] = df['total_time_us'] / 10**6\n",
    "df['mean_time_ms'] = df['total_time_ms'] / 10**6\n",
    "\n",
    "df"
   ]
  },
  {
   "cell_type": "code",
   "execution_count": null,
   "id": "b8fb5e91-afce-498e-9bee-06c77c18bcc4",
   "metadata": {},
   "outputs": [],
   "source": [
    "px.line(df, x='n', color='alg', y='mean_time_us', log_y=True, log_x=True)"
   ]
  },
  {
   "cell_type": "code",
   "execution_count": null,
   "id": "82d7f5c7-255b-438a-a618-a0d1545c8e2f",
   "metadata": {},
   "outputs": [],
   "source": [
    "value = 'mean_time_us'\n",
    "csv_df = df.copy()\n",
    "csv_df.alg = csv_df.alg.str[2:]\n",
    "csv_df = csv_df.pivot_table(index='n', columns='alg', values=[value])[value]\n",
    "csv_df.to_csv(f'time_measure_clean.csv')"
   ]
  },
  {
   "cell_type": "code",
   "execution_count": null,
   "id": "03519009-0c30-460d-bbf2-c1163c0e5377",
   "metadata": {},
   "outputs": [],
   "source": [
    "workdir = Path('measuring/')"
   ]
  },
  {
   "cell_type": "code",
   "execution_count": null,
   "id": "618a9f7c-c247-49b3-93dc-c59cd26cbd79",
   "metadata": {},
   "outputs": [],
   "source": [
    "def prepare_single_rowed_csv(df):\n",
    "    df = df.melt(id_vars=['n', 'm', 'rep'], var_name='alg', value_name='total_time_ns')\n",
    "    df['tag'] = df.alg[~df.alg.str.startswith('IBLT')][0][2:-3]\n",
    "    return df\n",
    "\n",
    "df = pd.concat(\n",
    "    map(prepare_single_rowed_csv, map(pd.read_csv, workdir.glob('*.csv')))\n",
    ", ignore_index=True)#.set_index('n').sort_index()\n",
    "df"
   ]
  },
  {
   "cell_type": "code",
   "execution_count": null,
   "id": "8df1ae8a-8c3a-40f9-9985-df36d06b70b8",
   "metadata": {},
   "outputs": [],
   "source": [
    "df = df.pivot_table(index=['n', 'alg', 'm', 'tag'], values='total_time_ns', aggfunc='mean')['total_time_ns'].reset_index()\n",
    "# df = df.groupby(['n', 'alg', 'm']).mean()['total_time_ns'].reset_index()\n",
    "iblt_mask = df.alg.str.startswith('IBLT')\n",
    "df.loc[iblt_mask, 'alg'] = 'C_' + df.loc[iblt_mask, 'alg']\n",
    "\n",
    "df['method'] = df.alg.str[:1]\n",
    "df['access'] = df.alg.str[-2:-1]\n",
    "df['alg']    = df.alg.str[2:-3]\n",
    "df['n_str']  = df.n.astype(str)\n",
    "\n",
    "df['total_time_us'] = df['total_time_ns'] / 10**3\n",
    "df['total_time_ms'] = df['total_time_ns'] / 10**6\n",
    "\n",
    "df['mean_time_us'] = df['total_time_us'] / 10**6\n",
    "df['mean_time_ms'] = df['total_time_ms'] / 10**6\n",
    "\n",
    "# df['tag'] = df['alg']\n",
    "\n",
    "# our_algs = [alg for alg in df.alg.unique() if not alg.startswith('IBLT')]\n",
    "\n",
    "# for alg in our_algs:\n",
    "#     df.loc[df.m.isin(df[df['alg']==alg].m.unique()), 'tag'] = alg\n",
    "\n",
    "df"
   ]
  },
  {
   "cell_type": "markdown",
   "id": "a1c883fb-9d30-4ab6-92fa-7a1f7734cfdd",
   "metadata": {
    "jp-MarkdownHeadingCollapsed": true
   },
   "source": [
    "#### Compare array vs. list vs. iterable"
   ]
  },
  {
   "cell_type": "code",
   "execution_count": null,
   "id": "f99ea887-dd7f-4ef8-a134-362c9c3ce807",
   "metadata": {},
   "outputs": [],
   "source": [
    "px.bar(\n",
    "    df[df.n.isin((2**8, 2**10, 2**15, 2**20, 2**28))],\n",
    "    x='method',\n",
    "    y='total_time_ns',\n",
    "    color='access',\n",
    "    barmode='group',\n",
    "    # pattern_shape='tag',\n",
    "    facet_col='alg',\n",
    "    facet_row='n_str',\n",
    ")"
   ]
  },
  {
   "cell_type": "code",
   "execution_count": null,
   "id": "ab20709b-5a4d-45a2-b109-130a99711464",
   "metadata": {},
   "outputs": [],
   "source": [
    "pt = df[~df.alg.str.startswith('IBLT')].pivot_table(index=['n', 'alg', 'm', 'method'], values=['total_time_ns'], columns=['access'])['total_time_ns']"
   ]
  },
  {
   "cell_type": "code",
   "execution_count": null,
   "id": "c3afc4f7-1407-4a3a-a16a-a376903b318a",
   "metadata": {},
   "outputs": [],
   "source": [
    "print('maximum deviation from best access type:')\n",
    "print(f'{1 - (pt.min(1)/pt.max(1)).min():%}')"
   ]
  },
  {
   "cell_type": "code",
   "execution_count": null,
   "id": "14b2cf8c-9419-4099-b5c5-30b67ec4336e",
   "metadata": {},
   "outputs": [],
   "source": [
    "pt.idxmin(1).value_counts()"
   ]
  },
  {
   "cell_type": "markdown",
   "id": "2c02ef7d-472a-4f2d-8a0f-b5dda20ac982",
   "metadata": {},
   "source": [
    "#### Iterable leads the charts, we'll use it"
   ]
  },
  {
   "cell_type": "code",
   "execution_count": null,
   "id": "0e309a4a-fc93-486a-b832-a9579f111099",
   "metadata": {},
   "outputs": [],
   "source": [
    "df = df[df['access']=='i'].drop(columns='access')"
   ]
  },
  {
   "cell_type": "markdown",
   "id": "4a61c9d8-e9b7-4fd9-8a38-0d6435752d5b",
   "metadata": {
    "jp-MarkdownHeadingCollapsed": true
   },
   "source": [
    "### Plots"
   ]
  },
  {
   "cell_type": "code",
   "execution_count": null,
   "id": "23f95f67-f2bf-4c27-b65d-47d85dbdd75a",
   "metadata": {},
   "outputs": [],
   "source": [
    "px.line(df, x='m', color='method', y='total_time_ms', facet_col='alg', facet_row='tag', log_y=True, log_x=True)"
   ]
  },
  {
   "cell_type": "code",
   "execution_count": null,
   "id": "0d223690-791f-48b2-baca-6b101bfe2cdd",
   "metadata": {},
   "outputs": [],
   "source": [
    "px.line(df, x='n', color='method', y='total_time_ms', facet_col='alg', facet_row='tag', log_y=True, log_x=True)"
   ]
  },
  {
   "cell_type": "code",
   "execution_count": null,
   "id": "3f582ed5-1343-4f44-92c5-8d8902830503",
   "metadata": {},
   "outputs": [],
   "source": [
    "dfc = df[(df.tag=='d7') & (df.n==256)][['alg', 'method', 'mean_time_ms']]\n",
    "dfc['total_of_1024'] = dfc['mean_time_ms']*1024\n",
    "dfc"
   ]
  },
  {
   "cell_type": "code",
   "execution_count": null,
   "id": "40a7f225-0a53-4dde-8092-fe3a945757d1",
   "metadata": {},
   "outputs": [],
   "source": [
    "1.134607/1.313365"
   ]
  },
  {
   "cell_type": "code",
   "execution_count": null,
   "id": "a4c73167-8876-4b6e-9818-fb046777b727",
   "metadata": {},
   "outputs": [],
   "source": [
    "px.line(df, x='m', y='n', color='tag', log_y=True, log_x=True)"
   ]
  },
  {
   "cell_type": "code",
   "execution_count": null,
   "id": "b277dbe8-8246-4ed7-90d1-2dd201b4fa8e",
   "metadata": {},
   "outputs": [],
   "source": [
    "value = 'mean_time_us'\n",
    "for tag in df.tag.unique():\n",
    "    csv_df = df[df.tag==tag].copy()\n",
    "    csv_df.alg += '[' + csv_df.method + ']'\n",
    "    csv_df = csv_df.pivot_table(index='m', values=['n']).join(\n",
    "        csv_df.pivot_table(index='m', columns=['alg'], values=[value])[value]\n",
    "    )\n",
    "\n",
    "    csv_df.rename(columns=lambda x: (\n",
    "        x[:4] if x.startswith('IBLT')\n",
    "        else x if not (exp:=fmt.match(x))\n",
    "        else 'Matrix' if exp[1]=='M'\n",
    "        else 'Sparse' if exp[1]=='S'\n",
    "        else 'Column' if exp[1]=='C'\n",
    "        else x\n",
    "    ), inplace=True)\n",
    "    csv_df.to_csv(f'time_measure_{tag}.csv')"
   ]
  },
  {
   "cell_type": "markdown",
   "id": "6407cb5f-1971-4c50-9e9b-81fcb21f232e",
   "metadata": {
    "jp-MarkdownHeadingCollapsed": true
   },
   "source": [
    "## Explorations"
   ]
  },
  {
   "cell_type": "code",
   "execution_count": null,
   "id": "3d3db51a-f77e-460f-9530-0dc2d7f14ee6",
   "metadata": {
    "ExecuteTime": {
     "end_time": "2023-07-12T15:13:41.354434Z",
     "start_time": "2023-07-12T15:13:36.930829Z"
    }
   },
   "outputs": [],
   "source": [
    "def mapping_matrix_to_set_of_tuples(M):\n",
    "    return {tuple(v) for v in M}\n",
    "\n",
    "def verify_column_generator_d3(m):\n",
    "    n = calc_u.d3_construction(m)\n",
    "    d3 = matgen.recursive_d3(m)\n",
    "\n",
    "    calc_c_d3 = fpfz.ColumnGeneratorD3(n=n, m=m)\n",
    "    d3_a = np.zeros_like(d3)\n",
    "    d3_i = np.zeros_like(d3)\n",
    "    d3_g = np.zeros_like(d3)\n",
    "\n",
    "    for i in range(n):\n",
    "        calc_c_d3.array(i, d3_a[i])\n",
    "        d3_i[i][calc_c_d3.list(i)] = 1\n",
    "        d3_g[i][list(calc_c_d3.iterable(i))] = 1\n",
    "\n",
    "    set_of_tuples_m = mapping_matrix_to_set_of_tuples(d3)\n",
    "    for i,mat in enumerate((d3_a, d3_i, d3_g)):\n",
    "        assert set_of_tuples_m == mapping_matrix_to_set_of_tuples(mat), i\n",
    "\n",
    "def verify_column_generator_k(m, d, k):\n",
    "    print(locals())\n",
    "    n = calc_u.recursive(m, d, calc_m, k)\n",
    "    M = matgen.recursive(n, d, k)\n",
    "\n",
    "    calc_c = fpfz.ColumnGeneratorK(n, d, k, mc=calc_m)\n",
    "    M_a = np.zeros_like(M)\n",
    "    M_i = np.zeros_like(M)\n",
    "    M_g = np.zeros_like(M)\n",
    "\n",
    "    for i in range(n):\n",
    "        calc_c.array(i, M_a[i])\n",
    "        # M_i[i][calc_c.list(i)] = 1\n",
    "        # M_g[i][list(calc_c.iterable(i))] = 1\n",
    "\n",
    "    set_of_tuples_m = mapping_matrix_to_set_of_tuples(M)\n",
    "    # for i,mat in enumerate((M_a, M_i, M_g)):\n",
    "    for i,mat in enumerate((M_a,)):\n",
    "        assert set_of_tuples_m == mapping_matrix_to_set_of_tuples(mat), f'\\n\\n{M}\\n\\n{M_a}'\n",
    "\n",
    "def verify_column_generator_hamming(m):\n",
    "    n = calc_u.ex_hamming(m)\n",
    "\n",
    "    calc_c = fpfz.ColumnGeneratorHamming(m=m)\n",
    "    h_a = np.zeros((n, m), dtype=int)\n",
    "    h_i = np.zeros((n, m), dtype=int)\n",
    "    h_g = np.zeros((n, m), dtype=int)\n",
    "\n",
    "    for i in range(n):\n",
    "        calc_c.array(i, h_a[i])\n",
    "        h_i[i][calc_c.list(i)] = 1\n",
    "        h_g[i][list(calc_c.iterable(i))] = 1\n",
    "\n",
    "    set_of_tuples_m = mapping_matrix_to_set_of_tuples(h_a)\n",
    "    for i,mat in enumerate((h_i, h_g)):\n",
    "        assert set_of_tuples_m == mapping_matrix_to_set_of_tuples(mat), i\n",
    "\n",
    "for m in list(range(3, 12)) + [17, 20, 27]:\n",
    "    verify_column_generator_d3(m)\n",
    "    verify_column_generator_hamming(m)\n",
    "\n",
    "# verify_column_generator_k(20, 5, 5)\n",
    "\n",
    "print('SUCCESS')"
   ]
  },
  {
   "cell_type": "code",
   "execution_count": null,
   "id": "aa2d94b0-2bb5-4468-ac39-148e32f3028b",
   "metadata": {},
   "outputs": [],
   "source": [
    "workdir = Path('measuring')\n",
    "workdir.mkdir(parents=True, exist_ok=True)"
   ]
  },
  {
   "cell_type": "code",
   "execution_count": null,
   "id": "fa0f4654-b1a6-46ea-88db-bf16e62ff731",
   "metadata": {},
   "outputs": [],
   "source": [
    "def gen(m, reps=2, sample_size=10**4):\n",
    "    print(f'generating for {m =:3}')\n",
    "    n = calc_u.d3_construction(m_bits=m)\n",
    "\n",
    "    n = min(n, 2**32)\n",
    "\n",
    "    d3_mappers = {\n",
    "        # 'IBLT': fpfz.HashMapper(m),\n",
    "        # 'd3M': fpfz.MatrixIndicesMapper(matgen.recursive_d3(m=m)),\n",
    "        # 'd3C': fpfz.ColumnGeneratorD3(m=m, n=n),\n",
    "        'HMC'  : fpfz.ColumnGeneratorHamming(m=m),\n",
    "        'd3k5' : fpfz.ColumnGeneratorK(n=calc_u.recursive(\n",
    "            m=m, d=3, k=5, mem_calc=calc_m), d=3, k=5 , mc=calc_m\n",
    "        ),\n",
    "        'd5k7' : fpfz.ColumnGeneratorK(n=calc_u.recursive(\n",
    "            m=m, d=5, k=7, mem_calc=calc_m), d=5, k=7 , mc=calc_m\n",
    "        ),\n",
    "        'd7k15': fpfz.ColumnGeneratorK(n=calc_u.recursive(\n",
    "            m=m, d=7, k=15, mem_calc=calc_m), d=7, k=15 , mc=calc_m\n",
    "        ),\n",
    "    }\n",
    "    results = Counter({'m': m, 'reps': reps})\n",
    "    for rep in range(reps):\n",
    "        print(f'{rep=}')\n",
    "        for name, mapper in d3_mappers.items():\n",
    "            # results[name + '[l]'] += fpfz.measure_insertions(m, mapper, universe_generator(n, sample_size), process_time_ns, fpfz.insertion_from_list )\n",
    "            results[name + '[a]'] += fpfz.measure_insertions(m, mapper, universe_generator(n, sample_size), process_time_ns, fpfz.insertion_from_array)\n",
    "\n",
    "    pd.DataFrame([results]).to_csv(workdir / f'{m}_{process_time_ns()}.csv', index=False)\n",
    "    return results"
   ]
  },
  {
   "cell_type": "code",
   "execution_count": null,
   "id": "c187d200-caa1-42e7-a164-b4375ff3954e",
   "metadata": {},
   "outputs": [],
   "source": [
    "d3results = []"
   ]
  },
  {
   "cell_type": "code",
   "execution_count": null,
   "id": "302a97fa-c0a0-4ba7-a6eb-343667e8797b",
   "metadata": {},
   "outputs": [],
   "source": [
    "for m in [\n",
    "    3, 5, 10, 15, 20, 30, 40, 50, 100, 200, 500, 1000, 1500,\n",
    "]:\n",
    "    d3results.append(gen(m, reps=10, sample_size=10**6))"
   ]
  },
  {
   "cell_type": "code",
   "execution_count": null,
   "id": "327b8bd7-4ea7-4290-b733-ac820c9e57f6",
   "metadata": {},
   "outputs": [],
   "source": [
    "d3results = pd.DataFrame.from_records(d3results).set_index('m')#.drop(columns='IBLT[a]')\n",
    "d3results = d3results.divide(d3results['IBLT[l]'], axis=\"index\")\n",
    "d3results"
   ]
  },
  {
   "cell_type": "code",
   "execution_count": null,
   "id": "0f03297a-6075-4528-9eb4-f2cfdbba19e0",
   "metadata": {},
   "outputs": [],
   "source": [
    "d3results.plot();"
   ]
  },
  {
   "cell_type": "code",
   "execution_count": null,
   "id": "aef5e16a-3476-48ed-9493-d83efa73317e",
   "metadata": {},
   "outputs": [],
   "source": [
    "# pd.concat([pd.read_csv(csv) for csv in workdir.glob('*.csv')]).set_index('m').to_csv('measuring.csv')"
   ]
  },
  {
   "cell_type": "code",
   "execution_count": null,
   "id": "cbe5ea4f-5050-44e4-a058-2fc50ee6f6de",
   "metadata": {},
   "outputs": [],
   "source": [
    "d3results = pd.read_csv('measuring.csv').set_index('m').sort_index()\n",
    "d3results = d3results.divide(d3results['reps'], axis='index').drop(columns=['reps'])\n",
    "d3results = d3results.divide(d3results['IBLT[l]'], axis=\"index\")\n",
    "d3results"
   ]
  },
  {
   "cell_type": "code",
   "execution_count": null,
   "id": "64746c7d-87a4-4ea6-9668-07862d497b70",
   "metadata": {},
   "outputs": [],
   "source": [
    "d3results.drop(columns=['d3C[l]']).plot(logx=True, logy=True);"
   ]
  },
  {
   "cell_type": "code",
   "execution_count": null,
   "id": "4fbede25-d820-4649-a25f-5a5f4de66022",
   "metadata": {},
   "outputs": [],
   "source": [
    "d3results.drop(columns=['d3C[l]']).to_csv('time_measure.csv')"
   ]
  },
  {
   "cell_type": "markdown",
   "id": "9197aabb-46e9-426b-a57f-55a704a9094c",
   "metadata": {
    "jp-MarkdownHeadingCollapsed": true
   },
   "source": [
    "### Full vs. sparse matrix"
   ]
  },
  {
   "cell_type": "code",
   "execution_count": null,
   "id": "32e878cd-f341-4c25-8265-5b5fd73cf62c",
   "metadata": {},
   "outputs": [],
   "source": [
    "def size(a):\n",
    "    return a.nbytes\n",
    "\n",
    "def size_MB(a):\n",
    "    return size(a)/2**20"
   ]
  },
  {
   "cell_type": "code",
   "execution_count": null,
   "id": "570c080a-c23f-4000-9ea1-9217fae01e0d",
   "metadata": {},
   "outputs": [],
   "source": [
    "n = 2**16\n",
    "k = 5\n",
    "d = 7\n",
    "M = matgen.recursive(n=n, d=d, k=k)\n",
    "size_MB(M)"
   ]
  },
  {
   "cell_type": "code",
   "execution_count": null,
   "id": "109e896f-4706-499f-86c6-f17322f1e875",
   "metadata": {},
   "outputs": [],
   "source": [
    "m = M.shape[1]\n",
    "m"
   ]
  },
  {
   "cell_type": "code",
   "execution_count": null,
   "id": "7ec62683-4b65-4316-a7d0-f82defdf09bd",
   "metadata": {},
   "outputs": [],
   "source": [
    "w = k\n",
    "if w is None:\n",
    "    w = M.sum(1).max()\n",
    "\n",
    "lM = np.empty((n, w), dtype=np.uint16)\n",
    "for i,e in enumerate(M):\n",
    "    lM[i] = e.nonzero()[0]"
   ]
  },
  {
   "cell_type": "code",
   "execution_count": null,
   "id": "20ab6cd2-197e-41e3-b737-bec68d0c1326",
   "metadata": {},
   "outputs": [],
   "source": [
    "lM"
   ]
  },
  {
   "cell_type": "code",
   "execution_count": null,
   "id": "a43eec65-193e-430b-939b-c6c450e11321",
   "metadata": {},
   "outputs": [],
   "source": [
    "del M"
   ]
  },
  {
   "cell_type": "code",
   "execution_count": null,
   "id": "0c9500dd-4f9b-47ae-b1f8-9fc7b0bd46d4",
   "metadata": {},
   "outputs": [],
   "source": [
    "size_MB(lM)"
   ]
  },
  {
   "cell_type": "code",
   "execution_count": null,
   "id": "deb01e27-6c88-4407-a16e-d5749a16bc3d",
   "metadata": {},
   "outputs": [],
   "source": [
    "n*k*2/2**20"
   ]
  },
  {
   "cell_type": "code",
   "execution_count": null,
   "id": "c50d979c-2bef-4035-90f3-bab91e6ffb6e",
   "metadata": {},
   "outputs": [],
   "source": [
    "counts  = np.zeros(m, dtype=int)\n",
    "xorsums = np.zeros(m, dtype=int)\n",
    "ysums   = np.zeros(m, dtype=int)"
   ]
  },
  {
   "cell_type": "code",
   "execution_count": null,
   "id": "8c0538c4-57b9-491b-957e-4eb0d3acbcef",
   "metadata": {},
   "outputs": [],
   "source": [
    "%%timeit\n",
    "outs = [b'42hf']\n",
    "for i in range(4):\n",
    "    outs.append(hashlib.sha1(outs[-1]).digest()[:4])\n",
    "\n",
    "for out in outs:\n",
    "    counts [int.from_bytes(out, 'big') % m] += 1\n",
    "    xorsums[int.from_bytes(out, 'big') % m] ^= int.from_bytes(out, 'big')\n",
    "    ysums  [int.from_bytes(out, 'big') % m] ^= int.from_bytes(out, 'big')"
   ]
  },
  {
   "cell_type": "code",
   "execution_count": null,
   "id": "b685b940-9c61-42e3-a1b6-c1ad4e2bc153",
   "metadata": {},
   "outputs": [],
   "source": [
    "%%timeit\n",
    "outs = lM[54]\n",
    "\n",
    "for out in outs:\n",
    "    counts [out % m] += 1\n",
    "    xorsums[out % m] ^= out\n",
    "    ysums  [out % m] ^= out"
   ]
  },
  {
   "cell_type": "code",
   "execution_count": null,
   "id": "eb71dcd4-8b2e-42b7-9cb3-b8612e4f1e5c",
   "metadata": {},
   "outputs": [],
   "source": [
    "reps = 10"
   ]
  },
  {
   "cell_type": "code",
   "execution_count": null,
   "id": "da2a2c43-5d67-4f2a-8d84-ad3f3c143341",
   "metadata": {},
   "outputs": [],
   "source": [
    "start = time()\n",
    "for _ in range(reps):\n",
    "    for i in range(n):\n",
    "        outs = [f'{i}'.encode()]\n",
    "        for i in range(k):\n",
    "            outs.append(hashlib.sha1(outs[-1]).digest()[:k])\n",
    "\n",
    "        for out in outs:\n",
    "            outint = int.from_bytes(out, 'big')\n",
    "            counts [outint % m] += 1\n",
    "            xorsums[outint % m] ^= outint\n",
    "            ysums  [outint % m] ^= outint\n",
    "\n",
    "total = time() - start\n",
    "total"
   ]
  },
  {
   "cell_type": "code",
   "execution_count": null,
   "id": "26fe7f84-2bb6-4c79-80d4-a8e22e671021",
   "metadata": {},
   "outputs": [],
   "source": [
    "start = time()\n",
    "for _ in range(reps):\n",
    "    for i in range(n):\n",
    "        outs = lM[i]\n",
    "\n",
    "        for out in outs:\n",
    "            counts [out % m] += 1\n",
    "            xorsums[out % m] ^= out\n",
    "            ysums  [out % m] ^= out\n",
    "total = time() - start\n",
    "total"
   ]
  },
  {
   "cell_type": "markdown",
   "id": "db88ba87-0ffc-4b31-9edd-9a71df8dc0e7",
   "metadata": {
    "jp-MarkdownHeadingCollapsed": true,
    "tags": []
   },
   "source": [
    "# Comparisons"
   ]
  },
  {
   "cell_type": "markdown",
   "id": "00848b99-28e2-41f6-beff-c0c673f51e31",
   "metadata": {
    "jp-MarkdownHeadingCollapsed": true,
    "tags": []
   },
   "source": [
    "## IBLT vs DFFZ"
   ]
  },
  {
   "cell_type": "code",
   "execution_count": null,
   "id": "0506944e-942c-44ee-90f5-c4b95430144b",
   "metadata": {},
   "outputs": [],
   "source": [
    "def rand_elements(n, N):\n",
    "    return rng.choice(n, N, replace=False)\n",
    "\n",
    "def simulations(n, Ns, tests, r):\n",
    "    a = np.empty((len(tests), len(Ns), r), dtype=bool)\n",
    "\n",
    "    for iN,N in enumerate(Ns):\n",
    "        for j in range(r):\n",
    "            e = rand_elements(n, N)\n",
    "            for it, t in enumerate(tests):\n",
    "                a[it, iN, j] = t(e)\n",
    "    return a\n",
    "\n",
    "def gen_tests(name2mat: dict):\n",
    "    tests = {k: fpfz.MatrixDecoder(v).is_decodable for k,v in name2mat.items()}\n",
    "    return tests, pd.DataFrame({name:mat.shape for name, mat in name2mat.items()}, index=('n','m')).transpose()\n",
    "\n",
    "def gen_tests_iblt(mks):\n",
    "    def test(s, m, k):\n",
    "        n = len(s)\n",
    "        return fpfz.MatrixDecoder(matgen.iblt(m=m, k=k, n=n)).is_decodable(np.arange(n))\n",
    "    return {f'{m=}_{k=}_RND_iblt': partial(test, m=m, k=k) for m,k in mks}\n",
    "\n",
    "def plot(results, Ns, tests, d, ax=None):\n",
    "    df = pd.DataFrame(results.T, index=pd.Index(Ns, name='N'), columns=tests)\n",
    "    ax = df.plot(ylabel='success probability', title=f'{d=}', ax=ax)\n",
    "    ax.plot([d,d],[df.values.min(),1])\n",
    "    ax.xaxis.set_major_locator(MaxNLocator(integer=True))\n",
    "    return df\n"
   ]
  },
  {
   "cell_type": "code",
   "execution_count": null,
   "id": "2e5445f7-d42d-48d4-a9ad-78957d6f94ac",
   "metadata": {},
   "outputs": [],
   "source": [
    "ks = [3]\n",
    "reps = 1000\n",
    "Ns = np.arange(2, 30)"
   ]
  },
  {
   "cell_type": "code",
   "execution_count": null,
   "id": "7b9a22d8-23ae-4d52-bcab-b1227f324726",
   "metadata": {},
   "outputs": [],
   "source": [
    "d = 3\n",
    "m = 15\n",
    "n = 25\n",
    "\n",
    "matrices = {\n",
    "    f'{m=}_{d=}_k=3_rec'  : matgen.recursive(n=n, d=d, k=3),\n",
    "    # f'{m=}_{d=}_k=5_rec': matgen.recursive(n=n, d=d, k=5),\n",
    "    f'{m=}_{d=}_ols'      : matgen.ols(s=5, d=2),\n",
    "} | {\n",
    "    f'{m=}_{k=}_MM3_iblt' : matgen.iblt(m=m, n=n, k=k)\n",
    "    for k in ks\n",
    "}\n",
    "tests, df = gen_tests(matrices)\n",
    "df"
   ]
  },
  {
   "cell_type": "code",
   "execution_count": null,
   "id": "cef2db34-adc9-4350-8232-71893d33234d",
   "metadata": {},
   "outputs": [],
   "source": [
    "results = simulations(n, Ns, tests.values(), reps).mean(2)\n",
    "df=plot(results, Ns, tests.keys(), d)\n",
    "# df.to_csv(f'dffz_vs_iblt_d{d}_m{m}_n{n}.csv')"
   ]
  },
  {
   "cell_type": "code",
   "execution_count": null,
   "id": "a92423a3-fcfd-4c4c-9fdd-e1f3433fbd7f",
   "metadata": {},
   "outputs": [],
   "source": [
    "d=5\n",
    "n=512\n",
    "m=71\n",
    "# mm=130\n",
    "k=4\n",
    "\n",
    "matrices = {\n",
    "    f'{m=}_{d=}_rec'     : matgen.recursive(n=n, d=d),\n",
    "    # f'm={mm}_d={d+2}_rec'  : matgen.recursive(n=n, d=d+2),\n",
    "} | {\n",
    "    # f'{m=}_{k=}_MM3_iblt' : matgen.iblt(m=m, n=n, k=k),\n",
    "    f'{m=}_k={k-1}_MM3_iblt' : matgen.iblt(m=m, n=n, k=k-1),\n",
    "}\n",
    "tests, df = gen_tests(matrices)\n",
    "df"
   ]
  },
  {
   "cell_type": "code",
   "execution_count": null,
   "id": "72b0fa57-6abf-4f87-ab8d-7c7f14b5a0a7",
   "metadata": {},
   "outputs": [],
   "source": [
    "results = simulations(n, Ns, tests.values(), reps*13).mean(2)\n",
    "df=plot(results, Ns, tests.keys(), d)\n",
    "df.to_csv(f'dffz_vs_iblt_d{d}_m{m}_n{n}.csv')"
   ]
  },
  {
   "cell_type": "code",
   "execution_count": null,
   "id": "e5109d7f-2dc5-4426-be50-df192c44e096",
   "metadata": {},
   "outputs": [],
   "source": [
    "d=5\n",
    "m=64\n",
    "n=calc_u.recursive(m, 5, calc_m)\n",
    "k=4\n",
    "\n",
    "matrices = {\n",
    "    f'{m=}_d=3_{k=}_rec'  : matgen.recursive(n=490, d=3, k=k),\n",
    "    f'{m=}_{d=}_rec'      : matgen.recursive(n=n, d=d),\n",
    "} | {\n",
    "    f'{m=}_{k=}_MM3_iblt' : matgen.iblt(m=m, n=n, k=k)\n",
    "}\n",
    "tests, df = gen_tests(matrices)\n",
    "df"
   ]
  },
  {
   "cell_type": "code",
   "execution_count": null,
   "id": "c8063f0a-497a-445d-a016-71f32c04d880",
   "metadata": {},
   "outputs": [],
   "source": [
    "results = simulations(n, Ns, tests.values(), reps).mean(2)\n",
    "df=plot(results, Ns, tests.keys(), d)\n",
    "df.to_csv(f'dffz_vs_iblt_d{d}_m{m}_n{n}.csv')"
   ]
  },
  {
   "cell_type": "code",
   "execution_count": null,
   "id": "c31c4da4-5dc4-4d7c-ae70-c7e9ae6384d0",
   "metadata": {},
   "outputs": [],
   "source": [
    "d=5\n",
    "m=64\n",
    "n=calc_u.recursive(m, 5, calc_m)\n",
    "k=4\n",
    "\n",
    "matrices = {\n",
    "    f'{m=}_{d=}_rec'      : matgen.recursive(n=n, d=d),\n",
    "} | {\n",
    "    f'{m=}_{k=}_MM3_iblt' : matgen.iblt(m=m, n=n, k=k)\n",
    "}\n",
    "tests, df = gen_tests(matrices)\n",
    "df"
   ]
  },
  {
   "cell_type": "code",
   "execution_count": null,
   "id": "e8ca5ac9-69ac-4013-aef1-1cb0ba1d12db",
   "metadata": {},
   "outputs": [],
   "source": [
    "Ns = np.arange(1,25)"
   ]
  },
  {
   "cell_type": "code",
   "execution_count": null,
   "id": "4266c93b-2351-4d50-b67d-55268a05d96c",
   "metadata": {},
   "outputs": [],
   "source": [
    "results = simulations(n, Ns, tests.values(), 3000).mean(2)\n",
    "df=plot(results, Ns, tests.keys(), d)\n",
    "df.to_csv(f'dffz_vs_iblt_d{d}_m{m}_n{n}.csv')"
   ]
  },
  {
   "cell_type": "markdown",
   "id": "4f576141-d005-448f-ab42-5adebfd6c096",
   "metadata": {
    "jp-MarkdownHeadingCollapsed": true,
    "tags": []
   },
   "source": [
    "## Large universe"
   ]
  },
  {
   "cell_type": "code",
   "execution_count": null,
   "id": "7aead7bf-dbc3-4c1a-a8f6-d4f237252251",
   "metadata": {},
   "outputs": [],
   "source": [
    "def rand_hash_collision(to_n, n):\n",
    "    return len(np.unique(rng.choice(to_n, size=n, replace=True))) < n\n",
    "\n",
    "def hash_collision_prob_emp(to_n, n, reps=2000):\n",
    "    return sum(itertools.starmap(rand_hash_collision, itertools.repeat((to_n, n), reps)))/reps\n"
   ]
  },
  {
   "cell_type": "code",
   "execution_count": null,
   "id": "146ff50f-7b9e-4e9d-80cc-d79de7f81511",
   "metadata": {},
   "outputs": [],
   "source": [
    "u = 2**8\n",
    "N = 5\n",
    "\n",
    "# x = np.logspace(1, 32, dtype=int, base=2)\n",
    "x = np.arange(32, dtype=int)\n",
    "plt.plot(x, [fpfz.hash_collision_prob(i, u) for i in x], label='p')\n",
    "plt.plot(x, [hash_collision_prob_emp(u, N) for N in x], label='e1')\n",
    "plt.legend()"
   ]
  },
  {
   "cell_type": "code",
   "execution_count": null,
   "id": "9708c4b2-da5a-4823-9015-6dd93ba5b483",
   "metadata": {},
   "outputs": [],
   "source": [
    "x = np.arange(1, 10, dtype=int)\n",
    "\n",
    "for exp in np.linspace(4, 32, num=5, dtype=int):\n",
    "    u = 2**exp\n",
    "    plt.plot(x, [1-hash_collision_prob_emp(u, i) for i in x], label=f'$2^{exp}$')\n",
    "plt.legend()\n",
    "# plt.yscale('log')"
   ]
  },
  {
   "cell_type": "code",
   "execution_count": null,
   "id": "b2b7a0ac-3719-493d-950e-f44c644f80cd",
   "metadata": {},
   "outputs": [],
   "source": [
    "def success_prob_with_collisions(m, N, reps=3000):\n",
    "    n = calc_u.recursive(m=m, d=N, mem_calc=calc_m)\n",
    "    # n = min(2**31 - 1, n)\n",
    "    return 1 - hash_collision_prob_emp(n, N, reps=reps)"
   ]
  },
  {
   "cell_type": "code",
   "execution_count": null,
   "id": "959f897b-e9df-4f0b-bbaf-d7f4b5263714",
   "metadata": {},
   "outputs": [],
   "source": [
    "Ns = np.arange(2, 6, dtype=int)\n",
    "\n",
    "for exp in np.linspace(3, 5, num=3, dtype=int):\n",
    "    m = 2**exp\n",
    "    plt.plot(Ns, [success_prob_with_collisions(m, N) for N in Ns], label=f'$m=2^{exp}$')\n",
    "plt.legend()\n",
    "# plt.yscale('log')"
   ]
  },
  {
   "cell_type": "code",
   "execution_count": null,
   "id": "42ae3bf7-4d9c-40cd-82c7-77a2261b1f34",
   "metadata": {
    "tags": []
   },
   "outputs": [],
   "source": [
    "m=32\n",
    "n=2**22\n",
    "k=4\n",
    "\n",
    "matrices = {\n",
    "    # f'{m=}_d=3_{k=}_rec'  : matgen.recursive(n=490, d=3, k=k),\n",
    "    # f'{m=}_{d=}_rec'      : matgen.recursive(n=n, d=d),\n",
    "} | {\n",
    "    f'{m=}_{k=}_MM3_iblt' : matgen.iblt(m=m, n=n, k=k)\n",
    "}\n",
    "tests, df = gen_tests(matrices)\n",
    "df"
   ]
  },
  {
   "cell_type": "code",
   "execution_count": null,
   "id": "e963ea7b-cf53-4c28-b474-0e16bef68cd7",
   "metadata": {},
   "outputs": [],
   "source": [
    "Ns = np.arange(2, 5)\n",
    "reps=3000"
   ]
  },
  {
   "cell_type": "markdown",
   "id": "a68ddf04-869a-4080-a21b-2a73a6b543d8",
   "metadata": {},
   "source": [
    "**MEH**"
   ]
  },
  {
   "cell_type": "code",
   "execution_count": null,
   "id": "792707f7-f5e5-4957-84a7-55f921155016",
   "metadata": {},
   "outputs": [],
   "source": [
    "ax = plt.subplot(111)\n",
    "ax.plot(Ns, [success_prob_with_collisions(m, N, reps=reps) for N in Ns], label=f'U{m=}')\n",
    "ax.legend()\n",
    "\n",
    "results = simulations(n, Ns, tests.values(), reps).mean(2)\n",
    "df = plot(results, Ns, tests.keys(), 2, ax)"
   ]
  },
  {
   "cell_type": "markdown",
   "id": "3b80e711-ff53-4acf-93aa-09bd1737dec8",
   "metadata": {
    "jp-MarkdownHeadingCollapsed": true,
    "tags": []
   },
   "source": [
    "## $m$-$n$-$d$(-$k$) tradeoff"
   ]
  },
  {
   "cell_type": "code",
   "execution_count": null,
   "id": "0d70a6c5-8e83-4a47-a0bb-951a2b7a9b15",
   "metadata": {},
   "outputs": [],
   "source": [
    "def get_k_dict():\n",
    "    return fpfz.read_from_disk(dicts_dir / 'recursive_k_dict.pkl')\n",
    "\n",
    "rk_df = pd.DataFrame.from_records(\n",
    "    (k + v for k,v in get_k_dict().items()),\n",
    "    columns=('n', 'd', 'k', 'm', 'i', 'j')\n",
    ")"
   ]
  },
  {
   "cell_type": "code",
   "execution_count": null,
   "id": "1e1d1302-e07e-4d9b-8485-6877db885ede",
   "metadata": {},
   "outputs": [],
   "source": [
    "steiner_df = fpfz.Steiner.generate_df(pg, 10000)"
   ]
  },
  {
   "cell_type": "code",
   "execution_count": null,
   "id": "c19a6a9d-53ae-4ffe-a1db-158151764163",
   "metadata": {},
   "outputs": [],
   "source": [
    "outdir = Path('csv')\n",
    "outdir.mkdir(exist_ok=True)\n",
    "\n",
    "def config_plots():\n",
    "    plt.loglog()\n",
    "    plt.legend()\n",
    "    # plt.xlim([n[0], n[-1]])\n",
    "    plt.title(f'd={d}')\n",
    "    plt.ylabel('m (memory)')\n",
    "    plt.xlabel('n (universe size)')\n",
    "\n",
    "samples = 200"
   ]
  },
  {
   "cell_type": "code",
   "execution_count": null,
   "id": "4fd7c7ca-7927-4f05-b63a-972fa7272616",
   "metadata": {},
   "outputs": [],
   "source": [
    "def lower_61(n, d):\n",
    "    return math.log2(\n",
    "        sum(math.comb(n, i) for i in range((d+1)//2))\n",
    "    )"
   ]
  },
  {
   "cell_type": "code",
   "execution_count": null,
   "id": "4f9bb8ea-7e00-45d4-b948-3f957503dd45",
   "metadata": {},
   "outputs": [],
   "source": [
    "# d=3, no k\n",
    "\n",
    "n = np.unique(np.logspace(.5, 8, samples, dtype=int))\n",
    "m = np.unique(np.logspace(.5, 2, samples, dtype=int))\n",
    "d=3\n",
    "\n",
    "d3n = list(itertools.takewhile(lambda us: us<= n[-1], map(calc_u.d3_construction, m)))\n",
    "\n",
    "xys = {\n",
    "    'rec'       : (d3n   , m[:len(d3n)]                                 ),\n",
    "    'ex_Hamming': (n     , list(map(calc_m.ex_hamming, n))              ),\n",
    "    'EGH'       : (n     , [calc_m.egh(i, d-1) for i in n]              ),\n",
    "    'L61'       : (n     , [lower_61(i, d) for i in n]              ),\n",
    "}\n",
    "\n",
    "for name, nms in xys.items():\n",
    "    df = pd.DataFrame(nms).T.rename(columns={0:'n',1:'m'})\n",
    "    plt.plot(*df.values.T, label=name)\n",
    "    df.to_csv(f'csv/nm_{name}_d{d}.csv', index=False)\n",
    "\n",
    "config_plots()"
   ]
  },
  {
   "cell_type": "code",
   "execution_count": null,
   "id": "f6de1957-5bcb-4a34-9015-6f6ea505b56d",
   "metadata": {},
   "outputs": [],
   "source": [
    "# k\n",
    "\n",
    "n = np.unique(np.logspace(1, 5, samples, dtype=int))\n",
    "m = np.unique(np.logspace(1, 3.5, samples, dtype=int))\n",
    "d=3\n",
    "\n",
    "aldpcn = list(itertools.takewhile(lambda us: us<= n[-1], map(lambda i: calc_u.array_ldpc(i, s=d+1), m)))\n",
    "\n",
    "def gen_rec_k(d, k):\n",
    "    return rk_df[(rk_df.k==k) & (rk_df.d==d)].set_index('n')['m'].loc.__getitem__\n",
    "\n",
    "rec_k3 = gen_rec_k(d, 3)\n",
    "rec_k5 = gen_rec_k(d, 5)\n",
    "\n",
    "xys = {\n",
    "    'LDPC_arr'  : (aldpcn, m[:len(aldpcn)]                              ),\n",
    "    # 'rec_k3_'   : (n     , [calc_m.recursive(i, d, k=3) for i in n]     ),\n",
    "    'rec_k3'    : (n     , [rec_k3(i) for i in n]     ),\n",
    "    'rec_k5'    : (n     , [rec_k5(i) for i in n]     ),\n",
    "    'OLS'       : (n     , [calc_m.ols(i, d-1) for i in n]              ),\n",
    "    'STNR'      : (n     , [calc_m.steiner(i, d, steiner_df) for i in n]),\n",
    "    'L61'       : (n     , [lower_61(i, d) for i in n]              ),\n",
    "}\n",
    "\n",
    "for name, nms in xys.items():\n",
    "    df = pd.DataFrame(nms).T.rename(columns={0:'n',1:'m'})\n",
    "    plt.plot(*df.values.T, label=name)\n",
    "    df.to_csv(f'csv/nm_{name}_d{d}.csv', index=False)\n",
    "\n",
    "config_plots()"
   ]
  },
  {
   "cell_type": "code",
   "execution_count": null,
   "id": "a78126f6",
   "metadata": {
    "tags": []
   },
   "outputs": [],
   "source": [
    "# no k\n",
    "d=15\n",
    "n = np.unique(np.logspace(.5, 6.2, samples, dtype=int))\n",
    "\n",
    "xys = {\n",
    "    # 'LDPC_arr': (aldpcn, m[:len(aldpcn)]                              ),\n",
    "    'rec'     : (n     , [calc_m.recursive(i, d) for i in n]          ),\n",
    "    'EGH'     : (n     , [calc_m.egh(i, d-1) for i in n]              ),\n",
    "    # 'OLS'     : (n     , [calc_m.ols(i, d-1) for i in n]              ),\n",
    "    # 'STNR'    : (n     , [calc_m.steiner(i, d, steiner_df) for i in n]),\n",
    "    'L61'       : (n     , [lower_61(i, d) for i in n]              ),\n",
    "}\n",
    "\n",
    "for name, nms in xys.items():\n",
    "    df = pd.DataFrame(nms).T.rename(columns={0:'n',1:'m'})\n",
    "    plt.plot(*df.values.T, label=name)\n",
    "    df.to_csv(f'csv/nm_{name}_d{d}.csv', index=False)\n",
    "\n",
    "config_plots()"
   ]
  },
  {
   "cell_type": "code",
   "execution_count": null,
   "id": "4eae6543-5a46-42ae-b0eb-5f3951aa0bb4",
   "metadata": {},
   "outputs": [],
   "source": [
    "# k\n",
    "d=7\n",
    "\n",
    "n = np.unique(np.logspace(1, 5, samples, dtype=int))\n",
    "m = np.unique(np.logspace(1, 4, samples, dtype=int))\n",
    "\n",
    "aldpcn = list(itertools.takewhile(lambda us: us<= n[-1], map(lambda i: calc_u.array_ldpc(i, s=d+1), m)))\n",
    "\n",
    "rec_k3 = gen_rec_k(d, 3)\n",
    "rec_k5 = gen_rec_k(d, 5)\n",
    "\n",
    "xys = {\n",
    "    'LDPC_arr': (aldpcn, m[:len(aldpcn)]                              ),\n",
    "    # 'rec_k3_'   : (n     , [calc_m.recursive(i, d, k=3) for i in n]     ),\n",
    "    'rec_k5'   : (n     , [calc_m.recursive(i, d, k=5) for i in n]     ),\n",
    "    'rec_k7'   : (n     , [calc_m.recursive(i, d, k=7) for i in n]     ),\n",
    "    # 'rec_k3'    : (n     , [rec_k3(i) for i in n]     ),\n",
    "    # 'rec_k5'    : (n     , [rec_k5(i) for i in n]     ),\n",
    "    # 'EGH'     : (n     , [calc_m.egh(i, d-1) for i in n]              ),\n",
    "    'OLS'     : (n     , [calc_m.ols(i, d-1) for i in n]              ),\n",
    "    'STNR'    : (n     , [calc_m.steiner(i, d, steiner_df) for i in n]),\n",
    "    'L61'       : (n     , [lower_61(i, d) for i in n]              ),\n",
    "}\n",
    "\n",
    "for name, nms in xys.items():\n",
    "    df = pd.DataFrame(nms).T.rename(columns={0:'n',1:'m'})\n",
    "    plt.plot(*df.values.T, label=name)\n",
    "    df.to_csv(f'csv/nm_{name}_d{d}.csv', index=False)\n",
    "\n",
    "config_plots()"
   ]
  },
  {
   "cell_type": "code",
   "execution_count": null,
   "id": "fe916f34-d7a4-44da-9a47-0785f88a8462",
   "metadata": {},
   "outputs": [],
   "source": [
    "# k\n",
    "d=15\n",
    "\n",
    "n = np.unique(np.logspace(1, 5, samples, dtype=int))\n",
    "m = np.unique(np.logspace(1, 4, samples, dtype=int))\n",
    "\n",
    "# aldpcn = list(itertools.takewhile(lambda us: us<= n[-1], map(lambda i: calc_u.array_ldpc(i, s=d+1), m)))\n",
    "\n",
    "rec_k3 = gen_rec_k(d, 3)\n",
    "rec_k5 = gen_rec_k(d, 5)\n",
    "\n",
    "xys = {\n",
    "    # 'LDPC_arr': (aldpcn, m[:len(aldpcn)]                              ),\n",
    "    # 'rec_k3_'   : (n     , [calc_m.recursive(i, d, k=3) for i in n]     ),\n",
    "    'rec_k5'   : (n     , [calc_m.recursive(i, d, k=5) for i in n]     ),\n",
    "    'rec_k7'   : (n     , [calc_m.recursive(i, d, k=7) for i in n]     ),\n",
    "    # 'rec_k3'    : (n     , [rec_k3(i) for i in n]     ),\n",
    "    # 'rec_k5'    : (n     , [rec_k5(i) for i in n]     ),\n",
    "    # 'EGH'     : (n     , [calc_m.egh(i, d-1) for i in n]              ),\n",
    "    'OLS'     : (n     , [calc_m.ols(i, d-1) for i in n]              ),\n",
    "    'STNR'    : (n     , [calc_m.steiner(i, d, steiner_df) for i in n]),\n",
    "    'L61'       : (n     , [lower_61(i, d) for i in n]              ),\n",
    "}\n",
    "\n",
    "for name, nms in xys.items():\n",
    "    df = pd.DataFrame(nms).T.rename(columns={0:'n',1:'m'})\n",
    "    plt.plot(*df.values.T, label=name)\n",
    "    df.to_csv(f'csv/nm_{name}_d{d}.csv', index=False)\n",
    "\n",
    "config_plots()"
   ]
  },
  {
   "cell_type": "markdown",
   "id": "c4791052-2b24-48da-a2b6-76d4ddf5f9f2",
   "metadata": {
    "jp-MarkdownHeadingCollapsed": true,
    "tags": []
   },
   "source": [
    "## $k$ values for non fixed $k$ constructions"
   ]
  },
  {
   "cell_type": "code",
   "execution_count": null,
   "id": "d597bd6e-c08a-4ae4-82ad-c8f92f4f2e33",
   "metadata": {},
   "outputs": [],
   "source": [
    "matgen.recursive_d3(7).sum(1).mean()"
   ]
  },
  {
   "cell_type": "code",
   "execution_count": null,
   "id": "5d2c2240-6c08-4da2-84d3-24594c575574",
   "metadata": {},
   "outputs": [],
   "source": [
    "def mean_weight(c):\n",
    "    return np.array(list(c.items())).prod(1).sum()/sum(c.values())\n",
    "\n",
    "mean_weight(matgen.recursive_d3_weights(1000))"
   ]
  },
  {
   "cell_type": "code",
   "execution_count": null,
   "id": "effd1c08-cda2-43da-a079-eec7b746507f",
   "metadata": {},
   "outputs": [],
   "source": [
    "samples = 10\n",
    "ms = np.unique(np.logspace(1, 3.5, samples, dtype=int))\n",
    "\n",
    "plt.plot(ms, [max(matgen.recursive_d3_weights(m)) for m in ms])\n",
    "plt.plot(ms, [mean_weight(matgen.recursive_d3_weights(m)) for m in ms])\n",
    "plt.loglog()"
   ]
  },
  {
   "cell_type": "markdown",
   "id": "c1ca68fe",
   "metadata": {
    "jp-MarkdownHeadingCollapsed": true,
    "tags": []
   },
   "source": [
    "# Bounds"
   ]
  },
  {
   "cell_type": "markdown",
   "id": "40718382-807f-430b-aad4-2b3c9a2ffec1",
   "metadata": {},
   "source": [
    "* $n$ - size of the code (the memory)\n",
    "* $M$ - size of the universe (log(M)=k)\n",
    "* $d$ - every subset up to d (including) is not a stopping set"
   ]
  },
  {
   "cell_type": "markdown",
   "id": "307dcff2",
   "metadata": {
    "jp-MarkdownHeadingCollapsed": true,
    "tags": []
   },
   "source": [
    "### M. Schwartz lower bound for stopping redundancy"
   ]
  },
  {
   "cell_type": "code",
   "execution_count": null,
   "id": "78033c50",
   "metadata": {},
   "outputs": [],
   "source": [
    "def w(n, i, d_co):\n",
    "    frac = int(math.ceil((n+1)/i)-1)\n",
    "    return max(frac, d_co)"
   ]
  },
  {
   "cell_type": "code",
   "execution_count": null,
   "id": "6489006b",
   "metadata": {},
   "outputs": [],
   "source": [
    "w(6, 1, 3)"
   ]
  },
  {
   "cell_type": "code",
   "execution_count": null,
   "id": "094ef6cb",
   "metadata": {},
   "outputs": [],
   "source": [
    "def lower_stopping_r(n = 30, d = 5, d_co = 5):\n",
    "    l = []\n",
    "\n",
    "    for i in range(1, d):\n",
    "        c = math.comb\n",
    "        wi = w(n, i, d_co)\n",
    "        exp = c(n, i) / (wi * c(n-wi, i-1))\n",
    "        l.append(math.ceil(exp))\n",
    "    low_ro = max(l)\n",
    "    return low_ro, l\n",
    "\n",
    "lower_stopping_r()"
   ]
  },
  {
   "cell_type": "markdown",
   "id": "27137ded",
   "metadata": {
    "jp-MarkdownHeadingCollapsed": true,
    "tags": []
   },
   "source": [
    "### Bounds for ZFD"
   ]
  },
  {
   "cell_type": "code",
   "execution_count": null,
   "id": "f162adfa",
   "metadata": {},
   "outputs": [],
   "source": [
    "zfd_methods = calc_M.ols, calc_M.egh"
   ]
  },
  {
   "cell_type": "code",
   "execution_count": null,
   "id": "fb48749a",
   "metadata": {},
   "outputs": [],
   "source": [
    "for f in zfd_methods:\n",
    "    print(f'{f.__name__:20} n>={math.ceil(f(7, 24))}')"
   ]
  },
  {
   "cell_type": "code",
   "execution_count": null,
   "id": "5f062f7c",
   "metadata": {},
   "outputs": [],
   "source": [
    "lower_stopping_r(12)"
   ]
  },
  {
   "cell_type": "code",
   "execution_count": null,
   "id": "edeb4a2f",
   "metadata": {},
   "outputs": [],
   "source": [
    "# Etzion, simplex code PCM\n",
    "v = np.arange(1,20)\n",
    "print('       n      M      d')\n",
    "print(np.array([\n",
    "    2**v - v - 1,\n",
    "    2**v - 1,\n",
    "    2**(v - 1)\n",
    "]).T)"
   ]
  },
  {
   "cell_type": "markdown",
   "id": "109fdc45",
   "metadata": {
    "jp-MarkdownHeadingCollapsed": true,
    "tags": []
   },
   "source": [
    "### Bounds from MDS (Scwartz)\n",
    "The $d$ here stands for minimal stopping set size"
   ]
  },
  {
   "cell_type": "code",
   "execution_count": null,
   "id": "9cc23de5",
   "metadata": {},
   "outputs": [],
   "source": [
    "# def lower_mds(n, d):\n",
    "#     q = n//2\n",
    "#     return math.ceil(math.comb(n//(q-1), d-2)/(d-1))*math.log2(q)\n",
    "\n",
    "def lower_mds(n, d):\n",
    "    return math.ceil(math.comb(n, d-2)/(d-1))\n",
    "\n",
    "def upper_mds(n, d):\n",
    "    return math.ceil(\n",
    "        math.comb(n, d-2)\n",
    "        *\n",
    "        (max(d-1, n-d+2))/n\n",
    "    )"
   ]
  },
  {
   "cell_type": "code",
   "execution_count": null,
   "id": "ef1d1d84",
   "metadata": {},
   "outputs": [],
   "source": [
    "plt.figure()\n",
    "plt.loglog()\n",
    "# for d in range(3, 20, 4):\n",
    "for d in [5]:\n",
    "    lmds_d = partial(lower_mds, d=d)\n",
    "    umds_d = partial(upper_mds, d=d)\n",
    "    n = np.arange(d+2, 1000)\n",
    "    l = np.fromiter(map(lmds_d, n), dtype=int)\n",
    "    u = np.fromiter(map(umds_d, n), dtype=int)\n",
    "    \n",
    "    plt.plot(n, l, '^', label=f'l {d=}')\n",
    "    plt.plot(n, [calc_M.egh(i, d) for i in n], label=f'EGH {d=}')\n",
    "    plt.plot(n, [calc_M.ols(i, d) for i in n], label=f'OLS {d=}')\n",
    "    plt.plot(n, u, 'v', label=f'u {d=}')\n",
    "\n",
    "plt.legend()\n",
    "plt.show()"
   ]
  },
  {
   "cell_type": "code",
   "execution_count": null,
   "id": "7365ffa7",
   "metadata": {},
   "outputs": [],
   "source": [
    "plt.figure()\n",
    "plt.yscale('log')\n",
    "for n in range(4, 100, 20):\n",
    "    umds = partial(upper_mds, n=n)\n",
    "    d = np.arange(2, n - 2)\n",
    "    u = np.array([umds(n=n, d=d_) for d_ in d])\n",
    "\n",
    "    plt.plot(d, u, 'v', label=f'{n=}')\n",
    "\n",
    "plt.legend()\n",
    "plt.show()"
   ]
  },
  {
   "cell_type": "code",
   "execution_count": null,
   "id": "6495aebb",
   "metadata": {},
   "outputs": [],
   "source": [
    "plt.figure()\n",
    "plt.yscale('log')\n",
    "\n",
    "n=40\n",
    "umds = partial(upper_mds, n=n)\n",
    "lmds = partial(lower_mds, n=n)\n",
    "d = np.arange(2, n - 2)\n",
    "u = np.array([umds(n=n, d=d_) for d_ in d])\n",
    "l = np.array([lmds(n=n, d=d_) for d_ in d])\n",
    "\n",
    "plt.plot(d, u, '^', label='UPPER')\n",
    "plt.plot(d, l, 'v', label='LOWER')\n",
    "\n",
    "plt.legend()\n",
    "plt.show()"
   ]
  },
  {
   "cell_type": "markdown",
   "id": "857765a9",
   "metadata": {
    "jp-MarkdownHeadingCollapsed": true,
    "tags": []
   },
   "source": [
    "# Constructions"
   ]
  },
  {
   "cell_type": "code",
   "execution_count": null,
   "id": "f903b540",
   "metadata": {},
   "outputs": [],
   "source": [
    "def I(n):\n",
    "    return np.eye(n, dtype=int)\n",
    "def C0(n):\n",
    "    return np.zeros((n, 1), dtype=int)\n",
    "def C1(n):\n",
    "    return np.ones((n, 1), dtype=int)"
   ]
  },
  {
   "cell_type": "markdown",
   "id": "22627fa7-03a9-47ea-97e2-84175815b6db",
   "metadata": {
    "jp-MarkdownHeadingCollapsed": true,
    "tags": []
   },
   "source": [
    "## Manual exploration"
   ]
  },
  {
   "cell_type": "code",
   "execution_count": null,
   "id": "b79b7cc0",
   "metadata": {
    "tags": []
   },
   "outputs": [],
   "source": [
    "h = {}\n",
    "def n(m):\n",
    "    return h[m].shape[0]\n",
    "\n",
    "# h[1] = I(1)\n",
    "# h[2] = I(2)\n",
    "h[3] = np.vstack((I(3), C1(3).T))\n",
    "h[4] = np.block([\n",
    "    [I(3), C0(3)],\n",
    "    [h[3], C1(4)],\n",
    "])\n",
    "h[5] = np.block([\n",
    "    [I(3), C0(3)   , C0(3)   ],\n",
    "    [h[3], C1(n(3)), C0(n(3))],\n",
    "    [h[3], C0(n(3)), C1(n(3))],\n",
    "])\n",
    "h[6] = np.block([\n",
    "    [I(3), C0(3), C0(3)   , C0(3)   ],\n",
    "    [h[4]       , C1(n(4)), C0(n(4))],\n",
    "    [h[4]       , C0(n(4)), C1(n(4))],\n",
    "])\n",
    "h[7] = np.block([\n",
    "    [I(3), C0(3), C0(3), C0(3), C0(3)],\n",
    "    [h[5]       , C1(n(5)), C0(n(5))],\n",
    "    [h[5]       , C0(n(5)), C1(n(5))],\n",
    "])\n",
    "h[8] = np.block([\n",
    "    [I(3), C0(3), C0(3), C0(3), C0(3), C0(3)],\n",
    "    [h[6]       , C1(n(6)), C0(n(6))],\n",
    "    [h[6]       , C0(n(6)), C1(n(6))],\n",
    "])\n",
    "h[9] = np.block([\n",
    "    [I(3), C0(3), C0(3), C0(3), C0(3), C0(3), C0(3)],\n",
    "    [h[6]       , C1(n(6)), C0(n(6)), C0(n(6))],\n",
    "    [h[6]       , C0(n(6)), C1(n(6)), C0(n(6))],\n",
    "    [h[6]       , C0(n(6)), C0(n(6)), C1(n(6))],\n",
    "])\n",
    "h[10] = np.block([\n",
    "    [I(3), C0(3), C0(3), C0(3), C0(3), C0(3), C0(3), C0(3)],\n",
    "    [h[7]       , C1(n(7)), C0(n(7)), C0(n(7))],\n",
    "    [h[7]       , C0(n(7)), C1(n(7)), C0(n(7))],\n",
    "    [h[7]       , C0(n(7)), C0(n(7)), C1(n(7))],\n",
    "])\n",
    "h[11] = np.block([\n",
    "    [I(3), C0(3), C0(3), C0(3), C0(3), C0(3), C0(3), C0(3), C0(3)],\n",
    "    [h[8]       , C1(n(8)), C0(n(8)), C0(n(8))],\n",
    "    [h[8]       , C0(n(8)), C1(n(8)), C0(n(8))],\n",
    "    [h[8]       , C0(n(8)), C0(n(8)), C1(n(8))],\n",
    "])\n",
    "h[12] = np.block([\n",
    "    [I(3), C0(3), C0(3), C0(3), C0(3), C0(3), C0(3), C0(3), C0(3), C0(3)],\n",
    "    [h[9]       , C1(n(9)), C0(n(9)), C0(n(9))],\n",
    "    [h[9]       , C0(n(9)), C1(n(9)), C0(n(9))],\n",
    "    [h[9]       , C0(n(9)), C0(n(9)), C1(n(9))],\n",
    "])\n",
    "for m,H in h.items():\n",
    "    assert H.shape[0]==len(set(map(tuple, H.tolist()))), f'duplicates! {m}'\n",
    "    assert H.shape[1]==m, f'{m}!={H.shape[1]}'\n",
    "    assert H.any(1).all(), f'Zero row in H[{m}]'\n",
    "print('done sanity checks, no duplicates, shapes are fine, no zero vectors')"
   ]
  },
  {
   "cell_type": "code",
   "execution_count": null,
   "id": "f322270e",
   "metadata": {},
   "outputs": [],
   "source": [
    "mdf = pd.DataFrame.from_records(\n",
    "    map(lambda H:\n",
    "        H.shape +\n",
    "        (calc.d3_construction(H.shape[1]),\n",
    "         fpfz.is_pd(H.astype(bool), 3),\n",
    "         np.linalg.matrix_rank(H)\n",
    "        ), h.values()), columns=['n','m', 'exp. n', 'd=3?', 'rank']\n",
    ").set_index('m')\n",
    "if mdf['d=3?'].all():\n",
    "    print('*'*5, 'all good', '*'*5)\n",
    "mdf"
   ]
  },
  {
   "cell_type": "markdown",
   "id": "fb1f8a1f",
   "metadata": {
    "jp-MarkdownHeadingCollapsed": true,
    "tags": []
   },
   "source": [
    "## Constructive $d=3$"
   ]
  },
  {
   "cell_type": "code",
   "execution_count": null,
   "id": "0175cc61",
   "metadata": {},
   "outputs": [],
   "source": [
    "for i in range(3,13):\n",
    "    print(i, fpfz.is_pd(fpfz.recursive_d3(i).astype(bool), 3))\n",
    "print('done')"
   ]
  },
  {
   "cell_type": "markdown",
   "id": "e49efb12-d570-4a50-aaad-6c484b1f19c3",
   "metadata": {
    "jp-MarkdownHeadingCollapsed": true,
    "tags": []
   },
   "source": [
    "## Constructive $d=4$"
   ]
  },
  {
   "cell_type": "code",
   "execution_count": null,
   "id": "ed4a9295-8ce6-4856-9e30-e6c02d6c95ee",
   "metadata": {},
   "outputs": [],
   "source": [
    "d=4"
   ]
  },
  {
   "cell_type": "code",
   "execution_count": null,
   "id": "4e8d8175",
   "metadata": {},
   "outputs": [],
   "source": [
    "h_chk = np.array([\n",
    "#   | <- old d3 ->|\n",
    "    [1, 0, 0, 0, 0, 0, 0, 0], #0\n",
    "    [0, 1, 0, 0, 0, 0, 0, 0], #1\n",
    "    [0, 0, 1, 0, 0, 0, 0, 1], #2\n",
    "    [1, 0, 0, 1, 0, 1, 0, 1], #3\n",
    "    [0, 1, 0, 1, 0, 0, 0, 0], #4\n",
    "    [0, 0, 1, 1, 0, 0, 0, 0], #5\n",
    "    [1, 1, 1, 1, 0, 0, 1, 0], #6\n",
    "    [1, 0, 0, 0, 1, 0, 0, 1], #7\n",
    "    [0, 1, 0, 0, 1, 0, 0, 0], #8\n",
    "    [0, 0, 1, 0, 1, 0, 1, 0], #9\n",
    "    [1, 1, 1, 0, 1, 1, 0, 0], #10\n",
    "])\n",
    "# daniella's:\n",
    "h_chk = np.vstack([\n",
    "    I(7),\n",
    "    np.array([\n",
    "        [1, 1, 0, 0, 0, 0, 0], #7\n",
    "        [0, 0, 1, 1, 0, 0, 0], #8\n",
    "        [0, 0, 0, 0, 1, 1, 0], #9\n",
    "        [1, 1, 1, 1, 1, 1, 1], #10\n",
    "    ])\n",
    "])\n",
    "# Avi's:\n",
    "h_chk = np.array([\n",
    "    [0, 1, 0, 0, 0, 0],\n",
    "    [0, 0, 1, 0, 0, 0],\n",
    "    [1, 0, 0, 0, 0, 0],\n",
    "    [0, 0, 0, 1, 0, 0],\n",
    "    [1, 0, 0, 0, 0, 1],\n",
    "    [0, 1, 1, 0, 0, 1],\n",
    "    [0, 0, 0, 1, 1, 0],\n",
    "    [1, 1, 0, 0, 1, 0],\n",
    "])\n",
    "# Avi's:\n",
    "h_chk = np.array([\n",
    "    [0, 1, 0, 0, 0, 0,    1, 1, 1,  0, 0, 0,    1, 1, 1, 1,  0, 0, 0, 0,  0, 0, 0, 0,],\n",
    "    [0, 0, 1, 0, 0, 0,    1, 1, 0,  0, 0, 0,    1, 1, 1, 0,  0, 0, 0, 0,  0, 0, 0, 0,],\n",
    "    [1, 0, 0, 0, 0, 0,    1, 0, 1,  0, 0, 0,    1, 1, 0, 1,  0, 0, 0, 0,  0, 0, 0, 0,],\n",
    "    [0, 0, 0, 1, 0, 0,    1, 0, 0,  0, 0, 0,    1, 1, 0, 0,  0, 0, 0, 0,  0, 0, 0, 0,],\n",
    "    [1, 0, 0, 0, 0, 1,    0, 1, 1,  0, 0, 0,    1, 0, 1, 1,  0, 0, 0, 0,  0, 0, 0, 0,],\n",
    "    [0, 1, 1, 0, 0, 1,    0, 1, 0,  0, 0, 0,    1, 0, 1, 0,  0, 0, 0, 0,  0, 0, 0, 0,],\n",
    "    [0, 0, 0, 1, 1, 0,    0, 0, 1,  0, 0, 0,    1, 0, 0, 1,  0, 0, 0, 0,  0, 0, 0, 0,],\n",
    "    [1, 1, 0, 0, 1, 0,    0, 0, 0,  0, 0, 0,    1, 0, 0, 0,  0, 0, 0, 0,  0, 0, 0, 0,],\n",
    "                                                            \n",
    "    [0, 1, 0, 0, 0, 0,    0, 0, 0,  1, 1, 1,    0, 1, 1, 1,  0, 0, 0, 0,  0, 0, 0, 0,],\n",
    "    [0, 0, 1, 0, 0, 0,    0, 0, 0,  1, 1, 0,    0, 1, 1, 0,  0, 0, 0, 0,  0, 0, 0, 0,],\n",
    "    [1, 0, 0, 0, 0, 0,    0, 0, 0,  1, 0, 1,    0, 1, 0, 1,  0, 0, 0, 0,  0, 0, 0, 0,],\n",
    "    [0, 0, 0, 1, 0, 0,    0, 0, 0,  1, 0, 0,    0, 1, 0, 0,  0, 0, 0, 0,  0, 0, 0, 0,],\n",
    "    [1, 0, 0, 0, 0, 1,    0, 0, 0,  0, 1, 1,    0, 0, 1, 1,  0, 0, 0, 0,  0, 0, 0, 0,],\n",
    "    [0, 1, 1, 0, 0, 1,    0, 0, 0,  0, 1, 0,    0, 0, 1, 0,  0, 0, 0, 0,  0, 0, 0, 0,],\n",
    "    [0, 0, 0, 1, 1, 0,    0, 0, 0,  0, 0, 1,    0, 0, 0, 1,  0, 0, 0, 0,  0, 0, 0, 0,],\n",
    "    [1, 1, 0, 0, 1, 0,    0, 0, 0,  0, 0, 0,    0, 0, 0, 0,  0, 0, 0, 0,  0, 0, 0, 0,],\n",
    "                                                   \n",
    "    [0, 1, 0, 0, 0, 0,    1, 1, 1,  0, 0, 0,    0, 0, 0, 0,  1, 1, 1, 1,  0, 0, 0, 0,],\n",
    "    [0, 0, 1, 0, 0, 0,    1, 1, 0,  0, 0, 0,    0, 0, 0, 0,  1, 1, 1, 0,  0, 0, 0, 0,],\n",
    "    [1, 0, 0, 0, 0, 0,    1, 0, 1,  0, 0, 0,    0, 0, 0, 0,  1, 1, 0, 1,  0, 0, 0, 0,],\n",
    "    [0, 0, 0, 1, 0, 0,    1, 0, 0,  0, 0, 0,    0, 0, 0, 0,  1, 1, 0, 0,  0, 0, 0, 0,],\n",
    "    [1, 0, 0, 0, 0, 1,    0, 1, 1,  0, 0, 0,    0, 0, 0, 0,  1, 0, 1, 1,  0, 0, 0, 0,],\n",
    "    [0, 1, 1, 0, 0, 1,    0, 1, 0,  0, 0, 0,    0, 0, 0, 0,  1, 0, 1, 0,  0, 0, 0, 0,],\n",
    "    [0, 0, 0, 1, 1, 0,    0, 0, 1,  0, 0, 0,    0, 0, 0, 0,  1, 0, 0, 1,  0, 0, 0, 0,],\n",
    "    [1, 1, 0, 0, 1, 0,    0, 0, 0,  0, 0, 0,    0, 0, 0, 0,  1, 0, 0, 0,  0, 0, 0, 0,],\n",
    "                                                                \n",
    "    [0, 1, 0, 0, 0, 0,    0, 0, 0,  1, 1, 1,    0, 0, 0, 0,  0, 1, 1, 1,  0, 0, 0, 0,],\n",
    "    [0, 0, 1, 0, 0, 0,    0, 0, 0,  1, 1, 0,    0, 0, 0, 0,  0, 1, 1, 0,  0, 0, 0, 0,],\n",
    "    [1, 0, 0, 0, 0, 0,    0, 0, 0,  1, 0, 1,    0, 0, 0, 0,  0, 1, 0, 1,  0, 0, 0, 0,],\n",
    "    [0, 0, 0, 1, 0, 0,    0, 0, 0,  1, 0, 0,    0, 0, 0, 0,  0, 1, 0, 0,  0, 0, 0, 0,],\n",
    "    [1, 0, 0, 0, 0, 1,    0, 0, 0,  0, 1, 1,    0, 0, 0, 0,  0, 0, 1, 1,  0, 0, 0, 0,],\n",
    "    [0, 1, 1, 0, 0, 1,    0, 0, 0,  0, 1, 0,    0, 0, 0, 0,  0, 0, 1, 0,  0, 0, 0, 0,],\n",
    "    [0, 0, 0, 1, 1, 0,    0, 0, 0,  0, 0, 1,    0, 0, 0, 0,  0, 0, 0, 1,  0, 0, 0, 0,],\n",
    "    [1, 1, 0, 0, 1, 0,    0, 0, 0,  0, 0, 0,    0, 0, 0, 0,  0, 0, 0, 0,  0, 0, 0, 0,],\n",
    "                                                   \n",
    "    [0, 1, 0, 0, 0, 0,    1, 1, 1,  0, 0, 0,    0, 0, 0, 0,  0, 0, 0, 0,  1, 1, 1, 1,],\n",
    "    [0, 0, 1, 0, 0, 0,    1, 1, 0,  0, 0, 0,    0, 0, 0, 0,  0, 0, 0, 0,  1, 1, 1, 0,],\n",
    "    [1, 0, 0, 0, 0, 0,    1, 0, 1,  0, 0, 0,    0, 0, 0, 0,  0, 0, 0, 0,  1, 1, 0, 1,],\n",
    "    [0, 0, 0, 1, 0, 0,    1, 0, 0,  0, 0, 0,    0, 0, 0, 0,  0, 0, 0, 0,  1, 1, 0, 0,],\n",
    "    [1, 0, 0, 0, 0, 1,    0, 1, 1,  0, 0, 0,    0, 0, 0, 0,  0, 0, 0, 0,  1, 0, 1, 1,],\n",
    "    [0, 1, 1, 0, 0, 1,    0, 1, 0,  0, 0, 0,    0, 0, 0, 0,  0, 0, 0, 0,  1, 0, 1, 0,],\n",
    "    [0, 0, 0, 1, 1, 0,    0, 0, 1,  0, 0, 0,    0, 0, 0, 0,  0, 0, 0, 0,  1, 0, 0, 1,],\n",
    "    [1, 1, 0, 0, 1, 0,    0, 0, 0,  0, 0, 0,    0, 0, 0, 0,  0, 0, 0, 0,  1, 0, 0, 0,],\n",
    "                                                              \n",
    "    [0, 1, 0, 0, 0, 0,    0, 0, 0,  1, 1, 1,    0, 0, 0, 0,  0, 0, 0, 0,  0, 1, 1, 1,],\n",
    "    [0, 0, 1, 0, 0, 0,    0, 0, 0,  1, 1, 0,    0, 0, 0, 0,  0, 0, 0, 0,  0, 1, 1, 0,],\n",
    "    [1, 0, 0, 0, 0, 0,    0, 0, 0,  1, 0, 1,    0, 0, 0, 0,  0, 0, 0, 0,  0, 1, 0, 1,],\n",
    "    [0, 0, 0, 1, 0, 0,    0, 0, 0,  1, 0, 0,    0, 0, 0, 0,  0, 0, 0, 0,  0, 1, 0, 0,],\n",
    "    [1, 0, 0, 0, 0, 1,    0, 0, 0,  0, 1, 1,    0, 0, 0, 0,  0, 0, 0, 0,  0, 0, 1, 1,],\n",
    "    [0, 1, 1, 0, 0, 1,    0, 0, 0,  0, 1, 0,    0, 0, 0, 0,  0, 0, 0, 0,  0, 0, 1, 0,],\n",
    "    [0, 0, 0, 1, 1, 0,    0, 0, 0,  0, 0, 1,    0, 0, 0, 0,  0, 0, 0, 0,  0, 0, 0, 1,],\n",
    "    [1, 1, 0, 0, 1, 0,    0, 0, 0,  0, 0, 0,    0, 0, 0, 0,  0, 0, 0, 0,  0, 0, 0, 0,],\n",
    "])\n",
    "len(h_chk)"
   ]
  },
  {
   "cell_type": "code",
   "execution_count": null,
   "id": "547549cc-8432-4a62-a747-5d1564610ddf",
   "metadata": {},
   "outputs": [],
   "source": [
    "sss = set(fpfz.pd_stopping_sets_generator(h_chk.astype(bool), d))\n",
    "print('total stopping sets:', len(sss))\n",
    "sss"
   ]
  },
  {
   "cell_type": "code",
   "execution_count": null,
   "id": "36ed330e-f722-493e-bf05-72864bf25ce3",
   "metadata": {},
   "outputs": [],
   "source": [
    "Counter([item for sublist in sss for item in sublist]).most_common(11)"
   ]
  },
  {
   "cell_type": "code",
   "execution_count": null,
   "id": "79feac89",
   "metadata": {},
   "outputs": [],
   "source": [
    "for i,r in enumerate(h_chk):\n",
    "    print(i,r)"
   ]
  },
  {
   "cell_type": "code",
   "execution_count": null,
   "id": "88eceea7-b23c-44a9-b762-803fafb85ad9",
   "metadata": {},
   "outputs": [],
   "source": [
    "h_chk.take(fpfz.get_pd_stopping_set(h_chk.astype(bool), d), 0)"
   ]
  },
  {
   "cell_type": "code",
   "execution_count": null,
   "id": "7db212e8-a669-436d-be24-f915d36c897d",
   "metadata": {},
   "outputs": [],
   "source": []
  },
  {
   "cell_type": "markdown",
   "id": "2a9ccbd5-9694-4e5d-a7c8-e1825dce9c72",
   "metadata": {
    "jp-MarkdownHeadingCollapsed": true,
    "tags": []
   },
   "source": [
    "## General $d$"
   ]
  },
  {
   "cell_type": "markdown",
   "id": "d8acbc47-3165-4bc6-9008-09fa67a12c5d",
   "metadata": {
    "jp-MarkdownHeadingCollapsed": true,
    "tags": []
   },
   "source": [
    "### Check valitity"
   ]
  },
  {
   "cell_type": "code",
   "execution_count": null,
   "id": "393c9f3b-5a68-4806-9872-867e1af071d3",
   "metadata": {},
   "outputs": [],
   "source": [
    "ns = range(4, 100)\n",
    "ds = range(4, 6)\n",
    "total = len(ns)*len(ds)\n",
    "print(f'{total=}')\n",
    "\n",
    "for i, (d, n) in enumerate(itertools.product(ds, ns)):\n",
    "    if i%20==0:\n",
    "        print(f'{i/total:.3%}')\n",
    "    if d > n:\n",
    "        continue\n",
    "    assert fpfz.is_pd(matgen.recursive(n, d).astype(bool), d), f'{n=}, {d=}'"
   ]
  },
  {
   "cell_type": "markdown",
   "id": "aa3fb6b1-2394-4fba-8a9c-99515c016123",
   "metadata": {
    "jp-MarkdownHeadingCollapsed": true,
    "tags": []
   },
   "source": [
    "### Custom"
   ]
  },
  {
   "cell_type": "code",
   "execution_count": null,
   "id": "1deb07a4-1e31-48eb-83a4-6194ef1eef2e",
   "metadata": {},
   "outputs": [],
   "source": [
    "cache = {}\n",
    "shmez = {}\n",
    "\n",
    "def recursive(n, d):\n",
    "    if res := cache.get((n, d)):\n",
    "        return res[0]\n",
    "    \n",
    "    if n <= d:\n",
    "        return n\n",
    "    if n == 1 or d == 1:\n",
    "        return 1\n",
    "    if d == 2:\n",
    "        return math.ceil(math.log2(n+1))\n",
    "    if d == 3:\n",
    "        return calc_M.d3_construction(n)\n",
    "      \n",
    "    def m(n, d, i):\n",
    "        ni = math.ceil(n/i)\n",
    "        major = recursive(ni, d)\n",
    "        minor = recursive(ni, d//2)\n",
    "        return major + i*minor\n",
    "    \n",
    "    ms = [(m(n, d, i), i) for i in range(2, n+1)]\n",
    "    best = min(min(ms), (n, -1))\n",
    "    \n",
    "    cache[(n, d)] = best\n",
    "    shmez[(n, d)] = ms\n",
    "            \n",
    "    return best[0]"
   ]
  },
  {
   "cell_type": "code",
   "execution_count": null,
   "id": "a26ec05e-a133-49d8-977c-0536bc2483e8",
   "metadata": {},
   "outputs": [],
   "source": [
    "recursive(1000000, 64)"
   ]
  },
  {
   "cell_type": "code",
   "execution_count": null,
   "id": "d7c31073-e38e-41ed-831d-ad6a83f8450e",
   "metadata": {},
   "outputs": [],
   "source": [
    "df = pd.DataFrame(((n,d,m,i) for (n,d),(m,i) in cache.items()), columns=('n','d','m','i'))"
   ]
  },
  {
   "cell_type": "code",
   "execution_count": null,
   "id": "c7391698-5669-407d-9216-94d897e487c2",
   "metadata": {},
   "outputs": [],
   "source": [
    "df"
   ]
  },
  {
   "cell_type": "markdown",
   "id": "a1528cc6-95bf-4a3b-bc4e-6f471485f340",
   "metadata": {
    "jp-MarkdownHeadingCollapsed": true,
    "tags": []
   },
   "source": [
    "### Explore $i$ histogram"
   ]
  },
  {
   "cell_type": "code",
   "execution_count": null,
   "id": "bbaf3d9d-90b8-4196-809c-8067dbe40e29",
   "metadata": {},
   "outputs": [],
   "source": [
    "df.plot.scatter('n', 'i')"
   ]
  },
  {
   "cell_type": "code",
   "execution_count": null,
   "id": "26ad6062-3468-4637-b9a3-ca955ba6027a",
   "metadata": {},
   "outputs": [],
   "source": [
    "df[(df.d == 64) & (df.n == 1000000)]"
   ]
  },
  {
   "cell_type": "code",
   "execution_count": null,
   "id": "8f9d1ef1-ce76-424d-a387-cc0b56accc19",
   "metadata": {},
   "outputs": [],
   "source": [
    "v = np.array(shmez[(1000000, 64)]).T"
   ]
  },
  {
   "cell_type": "code",
   "execution_count": null,
   "id": "a016b503-1e10-4c59-b160-9f2e2b5f8a67",
   "metadata": {},
   "outputs": [],
   "source": [
    "v = v[:, v[1] < 100]"
   ]
  },
  {
   "cell_type": "code",
   "execution_count": null,
   "id": "35bd022e-e46f-4ad5-a34b-c12536d256d6",
   "metadata": {},
   "outputs": [],
   "source": [
    "plt.xlabel('i')\n",
    "plt.ylabel('m')\n",
    "plt.plot(v[1], v[0]);"
   ]
  },
  {
   "cell_type": "markdown",
   "id": "4e4fc2f9-2b1b-45de-b785-86aadd316542",
   "metadata": {
    "jp-MarkdownHeadingCollapsed": true
   },
   "source": [
    "### What i,j are chosen in k,d construction?"
   ]
  },
  {
   "cell_type": "code",
   "execution_count": null,
   "id": "4d3f7f37-fa6a-41a1-860d-fba9a1ffe966",
   "metadata": {},
   "outputs": [],
   "source": [
    "class Tracer:\n",
    "    def __init__(self, mc):\n",
    "        self.mc = mc\n",
    "\n",
    "    def recursive_k(self, n, d, k):\n",
    "        trace = [self.mc.recursive_k_ex(n, d, k)]\n",
    "        m, i, j = trace[0]\n",
    "    \n",
    "        d = min(d, n)\n",
    "    \n",
    "        if i == 1 or k == 1 or d <= 2:\n",
    "            return trace\n",
    "    \n",
    "        ni = math.ceil(n / i)\n",
    "        trace.extend(self.recursive_k(ni, d   , k-j))\n",
    "        trace.extend(self.recursive_k(ni, d//2, j  ))\n",
    "        \n",
    "        return trace\n",
    "\n",
    "tracer = Tracer(calc_m)"
   ]
  },
  {
   "cell_type": "code",
   "execution_count": null,
   "id": "f5bb4d67-1ae1-42df-a0af-6db2f8376deb",
   "metadata": {},
   "outputs": [],
   "source": [
    "tracer.recursive_k(n=n, d=5, k=6)"
   ]
  },
  {
   "cell_type": "markdown",
   "id": "dc55f99b",
   "metadata": {
    "jp-MarkdownHeadingCollapsed": true,
    "tags": []
   },
   "source": [
    "## [OLD] For $d=3$, what is the best $m$ for given $n$ ($k=0$)"
   ]
  },
  {
   "cell_type": "code",
   "execution_count": null,
   "id": "c885de27",
   "metadata": {},
   "outputs": [],
   "source": [
    "mdf = out[(out.code=='PD') & (out.d==3)].loc[:,['n', 'm']].groupby(['n']).max().copy()\n",
    "mdf.rename(columns={'m': 'm_sim'}, inplace=True)\n",
    "mdf"
   ]
  },
  {
   "cell_type": "markdown",
   "id": "9ef0b672",
   "metadata": {},
   "source": [
    "Conjecture:\n",
    "\n",
    "$m(n,3)=m(n-1,3)+n-1 = 1+\\frac{n(n-1)}{2}=O(n^2)$"
   ]
  },
  {
   "cell_type": "code",
   "execution_count": null,
   "id": "50a39c5f",
   "metadata": {},
   "outputs": [],
   "source": [
    "def m1(n, d=3):\n",
    "    assert d==3 and n > 0\n",
    "    return int(1 + n*(n-1)/2)"
   ]
  },
  {
   "cell_type": "code",
   "execution_count": null,
   "id": "5396f884",
   "metadata": {},
   "outputs": [],
   "source": [
    "mdf['m1'] = mdf.index.map(m1)\n",
    "mdf"
   ]
  },
  {
   "cell_type": "markdown",
   "id": "7f2ec96e",
   "metadata": {},
   "source": [
    "This is not true! I got: $m(6)\\geq19$.\n",
    "This is my new conjecture:\n",
    "\n",
    "$m(n, 3) = 4m(n - 3)+3$"
   ]
  },
  {
   "cell_type": "code",
   "execution_count": null,
   "id": "943c23ce",
   "metadata": {},
   "outputs": [],
   "source": [
    "def m2(n, d=3):\n",
    "    assert d==3\n",
    "    if n<=3:\n",
    "        return m1(n)\n",
    "    return int(3 + 4*m(n-3))"
   ]
  },
  {
   "cell_type": "code",
   "execution_count": null,
   "id": "66a9668c",
   "metadata": {},
   "outputs": [],
   "source": [
    "mdf['m2'] = mdf.index.map(m2)\n",
    "mdf"
   ]
  },
  {
   "cell_type": "markdown",
   "id": "15fa0634",
   "metadata": {},
   "source": [
    "This is not true, but it is still exponential."
   ]
  }
 ],
 "metadata": {
  "kernelspec": {
   "display_name": "Python 3 (ipykernel)",
   "language": "python",
   "name": "python3"
  },
  "language_info": {
   "codemirror_mode": {
    "name": "ipython",
    "version": 3
   },
   "file_extension": ".py",
   "mimetype": "text/x-python",
   "name": "python",
   "nbconvert_exporter": "python",
   "pygments_lexer": "ipython3",
   "version": "3.10.6"
  }
 },
 "nbformat": 4,
 "nbformat_minor": 5
}
