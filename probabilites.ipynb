{
 "cells": [
  {
   "cell_type": "code",
   "execution_count": null,
   "metadata": {},
   "outputs": [],
   "source": [
    "import math\n",
    "from collections import Counter\n",
    "from itertools import combinations\n",
    "\n",
    "import attr\n",
    "import ipywidgets as widgets\n",
    "import matplotlib.pyplot as plt\n",
    "import matplotlib as mpl\n",
    "mpl.rcParams['figure.dpi'] = 200\n",
    "import numpy as np\n",
    "import pandas as pd\n",
    "import plotly.express as px\n",
    "import plotly.graph_objects as go\n",
    "px.defaults.height = 600\n",
    "from scipy.stats import fisk\n",
    "from scipy.integrate import quad as integrate\n",
    "\n",
    "\n",
    "rng = np.random.default_rng()\n",
    "\n",
    "\n",
    "@attr.s\n",
    "class ProbWindowSize:\n",
    "    w = attr.ib()\n",
    "\n",
    "    def _delta_idxs_to_mask(self, idxs):\n",
    "        mask = np.zeros_like(self.w, bool)\n",
    "        mask[np.array(idxs, dtype=int)] = True\n",
    "        return mask\n",
    "\n",
    "    def p_event(self, delta_idxs):\n",
    "        w    = self.w\n",
    "        mask = self._delta_idxs_to_mask(delta_idxs)\n",
    "        p    = w[~mask].prod() * (1 - w[mask]).prod()\n",
    "        assert p >= 0\n",
    "\n",
    "        return p\n",
    "\n",
    "    def pd_delta_k(self, k):\n",
    "        return sum(map(\n",
    "            self.p_event,\n",
    "            combinations(range(len(self.w)), k)\n",
    "        ))\n",
    "\n",
    "    def cd_delta_k(self, k):\n",
    "        return sum(map(self.pd_delta_k, range(k+1)))\n",
    "\n",
    "def plot_windows(ws, x=None):\n",
    "    if x is None:\n",
    "        x = np.arange(0, max(map(len, ws.values())))\n",
    "\n",
    "    pdfs = plt.subplot(211)\n",
    "    cdfs = plt.subplot(212)\n",
    "    pdfs.set_xlabel('$k$')\n",
    "    cdfs.set_xlabel('$k$')\n",
    "    pdfs.set_ylabel('$P(\\delta(w)=k)$')\n",
    "    cdfs.set_ylabel('$P(\\delta(w)\\leq k)$')\n",
    "\n",
    "    for label, w in ws.items():\n",
    "        y = np.vectorize(ProbWindowSize(w).pd_delta_k)(x)\n",
    "        assert len(y[y<0]) == 0, y\n",
    "        pdfs.plot(x, y, label=label)\n",
    "        cdfs.plot(x, np.cumsum(y), label=label)\n",
    "\n",
    "    plt.legend()"
   ]
  },
  {
   "cell_type": "markdown",
   "metadata": {
    "jp-MarkdownHeadingCollapsed": true,
    "tags": []
   },
   "source": [
    "# Communication Model"
   ]
  },
  {
   "cell_type": "markdown",
   "metadata": {
    "tags": []
   },
   "source": [
    "## Model\n",
    "\n",
    "Three nodes:\n",
    "\n",
    " * $A,B$ - receivers\n",
    " * $I$ - transaction issuer\n",
    "\n",
    "When $I$ creates a transaction, she sends it to both $A$ and $B$.\n",
    "After $t_A,t_B$ time, it recieved by $A,B$ respectively.\n",
    "$t_A,t_B \\sim LL$ (Log-logistic)\n",
    "\n",
    "The probability that a transaction that was received $t_A$ seconds ago in $A$, is included in $B$, is given by:\n",
    "$$\n",
    "P(tx \\in B | t_A) = \\int_{0}^{\\infty} f(t)\\cdot F(t + t_A) \\,dt\n",
    "$$\n",
    "(the 'now' is the sync point)\n",
    "\n",
    "Where $f,F$ are the probability density and cumulative distribution functions of $LL$, respectively:\n",
    "$$\n",
    "f(t) = \\frac{\\beta t^{\\beta-1}}{(1+t^\\beta)^2}\n",
    "\\;\\;\\;\\;\\;\n",
    "F(t) = \\frac{1}{1+t^{-\\beta}}\n",
    "$$"
   ]
  },
  {
   "cell_type": "markdown",
   "metadata": {},
   "source": [
    "The following code numerically integrates $f,F$ to get the prob."
   ]
  },
  {
   "cell_type": "code",
   "execution_count": null,
   "metadata": {},
   "outputs": [],
   "source": [
    "class PrTxInB:\n",
    "    def __init__(self, p = fisk(c=2)):\n",
    "        self.p = p\n",
    "        self.pr_for_t = np.vectorize(self._pr_for_t)\n",
    "\n",
    "    def _gen_inner_conv(self, age):\n",
    "        return lambda t: self.p.pdf(t) * self.p.cdf(t + age)\n",
    "\n",
    "    def _pr_for_t(self, age):\n",
    "        return integrate(self._gen_inner_conv(age), 0, np.inf)[0]\n",
    "\n",
    "x = np.linspace(0, 10, 100)\n",
    "p = PrTxInB()"
   ]
  },
  {
   "cell_type": "markdown",
   "metadata": {},
   "source": [
    "$LL$ PDF:"
   ]
  },
  {
   "cell_type": "code",
   "execution_count": null,
   "metadata": {},
   "outputs": [],
   "source": [
    "plt.plot(x, p.p.pdf(x))\n",
    "plt.xlabel('$t$')\n",
    "plt.ylabel('$f(t)$')\n",
    "plt.show()"
   ]
  },
  {
   "cell_type": "code",
   "execution_count": null,
   "metadata": {},
   "outputs": [],
   "source": [
    "plt.plot(x, p.pr_for_t(x))\n",
    "plt.xlabel('$t_A$')\n",
    "plt.ylabel('$P(tx \\in B | t_A)$')\n",
    "plt.show()"
   ]
  },
  {
   "cell_type": "markdown",
   "metadata": {
    "jp-MarkdownHeadingCollapsed": true,
    "tags": []
   },
   "source": [
    "# $P(tx \\in B) \\Longrightarrow P(\\delta(w)=k)$"
   ]
  },
  {
   "cell_type": "code",
   "execution_count": null,
   "metadata": {
    "tags": []
   },
   "outputs": [],
   "source": [
    "ws = { f'U{i}': np.repeat(.1, 10) * i for i in [1, 3, 5, 7, 9] }\n",
    "\n",
    "plot_windows(ws, np.arange(0, 12))"
   ]
  },
  {
   "cell_type": "code",
   "execution_count": null,
   "metadata": {},
   "outputs": [],
   "source": [
    "ws = {\n",
    "    'C_1_9': np.array([.1] * 1 + [.9] * 9),\n",
    "    'C_3_7': np.array([.1] * 3 + [.9] * 7),\n",
    "    'C_5_5': np.array([.1] * 5 + [.9] * 5),\n",
    "    'C_7_3': np.array([.1] * 7 + [.9] * 3),\n",
    "    'C_9_1': np.array([.1] * 9 + [.9] * 1),\n",
    "}\n",
    "\n",
    "plot_windows(ws)"
   ]
  },
  {
   "cell_type": "code",
   "execution_count": null,
   "metadata": {},
   "outputs": [],
   "source": [
    "ws = {\n",
    "    'lin': np.linspace (.1, .9, 13),\n",
    "    'log': np.geomspace(.1, .9, 13),\n",
    "}\n",
    "\n",
    "plot_windows(ws)"
   ]
  },
  {
   "cell_type": "markdown",
   "metadata": {
    "jp-MarkdownHeadingCollapsed": true,
    "tags": []
   },
   "source": [
    "## Interactive exploration"
   ]
  },
  {
   "cell_type": "code",
   "execution_count": null,
   "metadata": {},
   "outputs": [],
   "source": [
    "ns = [\n",
    "    widgets.IntSlider(\n",
    "        description=f'#p={i/10}',\n",
    "        value=3,\n",
    "        min=0,\n",
    "        max=10,\n",
    "        continuous_update=False,\n",
    "        orientation='vertical',\n",
    "        # readout_format='.1f',\n",
    "    )\n",
    "    for i in range(0, 11, 2)\n",
    "]"
   ]
  },
  {
   "cell_type": "code",
   "execution_count": null,
   "metadata": {},
   "outputs": [],
   "source": [
    "min_max_step = 0.0, 1.0, 0.1\n",
    "@widgets.interact\n",
    "def f(\n",
    "    n000=ns[0],\n",
    "    n020=ns[1],\n",
    "    n040=ns[2],\n",
    "    n060=ns[3],\n",
    "    n080=ns[4],\n",
    "    n100=ns[5],\n",
    "):\n",
    "    plot_windows(\n",
    "        {'-': np.array(\n",
    "            [0.0] * n000 +\n",
    "            [0.2] * n020 +\n",
    "            [0.4] * n040 +\n",
    "            [0.6] * n060 +\n",
    "            [0.8] * n080 +\n",
    "            [1.0] * n100\n",
    "        )},\n",
    "        np.arange(0, 1+ n000 + n020 + n040 + n060 + n080 + n100)\n",
    "    )\n",
    "\n",
    "widgets.HBox(ns)"
   ]
  },
  {
   "cell_type": "markdown",
   "metadata": {
    "jp-MarkdownHeadingCollapsed": true,
    "tags": []
   },
   "source": [
    "# Reconciliation using fixed-size protocols"
   ]
  },
  {
   "cell_type": "code",
   "execution_count": null,
   "metadata": {},
   "outputs": [],
   "source": [
    "def split_probs(split):\n",
    "    return [ProbWindowSize(w).cd_delta_k(delta_threshold) for w in split]"
   ]
  },
  {
   "cell_type": "code",
   "execution_count": null,
   "metadata": {},
   "outputs": [],
   "source": [
    "delta_threshold=2\n",
    "w = np.linspace(.1, .9, 9)\n",
    "# w = np.array([.1]*6 + [.9]*6)\n",
    "w"
   ]
  },
  {
   "cell_type": "code",
   "execution_count": null,
   "metadata": {},
   "outputs": [],
   "source": [
    "wise_split = [2, 2]\n",
    "n_bins = 1+len(wise_split)\n",
    "wise_p = np.split(w, np.cumsum(wise_split))\n",
    "wise_p"
   ]
  },
  {
   "cell_type": "code",
   "execution_count": null,
   "metadata": {},
   "outputs": [],
   "source": [
    "sp = split_probs(wise_p)\n",
    "print(np.prod(sp))\n",
    "print(sp)"
   ]
  },
  {
   "cell_type": "code",
   "execution_count": null,
   "metadata": {},
   "outputs": [],
   "source": [
    "wise_p = [\n",
    "    np.array([.1, .6, .8]),\n",
    "    np.array([.2, .4, .9]),\n",
    "    np.array([.3, .5, .7])\n",
    "]"
   ]
  },
  {
   "cell_type": "code",
   "execution_count": null,
   "metadata": {},
   "outputs": [],
   "source": [
    "sp = split_probs(wise_p)\n",
    "print(np.prod(sp))\n",
    "print(sp)"
   ]
  },
  {
   "cell_type": "code",
   "execution_count": null,
   "metadata": {
    "tags": []
   },
   "outputs": [],
   "source": [
    "res = []\n",
    "for i in range(10000):\n",
    "    sw = np.split(rng.permutation(w), n_bins)\n",
    "    sp = split_probs(sw)\n",
    "    res.append((np.prod(sp), sp, sw))"
   ]
  },
  {
   "cell_type": "code",
   "execution_count": null,
   "metadata": {
    "tags": []
   },
   "outputs": [],
   "source": [
    "prods = np.array([r[0] for r in res])"
   ]
  },
  {
   "cell_type": "code",
   "execution_count": null,
   "metadata": {},
   "outputs": [],
   "source": [
    "res[prods.argmin()]"
   ]
  },
  {
   "cell_type": "code",
   "execution_count": null,
   "metadata": {},
   "outputs": [],
   "source": [
    "res[prods.argmax()]"
   ]
  },
  {
   "cell_type": "code",
   "execution_count": null,
   "metadata": {},
   "outputs": [],
   "source": [
    "prods.mean()"
   ]
  },
  {
   "cell_type": "markdown",
   "metadata": {
    "jp-MarkdownHeadingCollapsed": true,
    "tags": []
   },
   "source": [
    "## Experiment:\n",
    "\n",
    "Assumptions:\n",
    "- $B \\subseteq A$\n",
    "- Set reconciliaction protocol is given with $M$ bits.\n",
    "\n",
    "Comparisons:\n",
    "- 1 instance with $t*M$ memory\n",
    "- $t$ instances, random split sets\n",
    "- $t$ instances, smart allocation by probability\n",
    "\n",
    "Start with CPI as it has easy-to-compute properties:\n",
    "$1/0$ success depends on the predefined threshold, and number of bits given threshold."
   ]
  },
  {
   "cell_type": "code",
   "execution_count": null,
   "metadata": {},
   "outputs": [],
   "source": [
    "P = np.array([\n",
    "    [10, 1000],\n",
    "    [90, 1000],\n",
    "])\n",
    "\n",
    "expected_delta = math.ceil(P.prod(1).sum() / 100)\n",
    "expected_delta"
   ]
  },
  {
   "cell_type": "code",
   "execution_count": null,
   "metadata": {},
   "outputs": [],
   "source": [
    "t = 4"
   ]
  },
  {
   "cell_type": "code",
   "execution_count": null,
   "metadata": {},
   "outputs": [],
   "source": [
    "class CPI:\n",
    "    @staticmethod\n",
    "    def calc_m(d, b=32):\n",
    "        return (d+1)*(b+1)-1\n",
    "\n",
    "    @staticmethod\n",
    "    def calc_d(m, b=32):\n",
    "        return (m+1)//(b+1)-1\n",
    "\n",
    "    @staticmethod\n",
    "    def estim_c(d, b=32):\n",
    "        return b + d**3\n",
    "\n",
    "\n",
    "trials = 100000\n",
    "def empirical_delta(P, trials=trials):\n",
    "    return sum(rng.binomial(p[1], p[0]/100, trials) for p in P)\n",
    "\n",
    "M = CPI.calc_m(d=expected_delta)\n",
    "M"
   ]
  },
  {
   "cell_type": "markdown",
   "metadata": {
    "jp-MarkdownHeadingCollapsed": true,
    "tags": []
   },
   "source": [
    "### Set $B$ defined empirically by probability"
   ]
  },
  {
   "cell_type": "markdown",
   "metadata": {
    "jp-MarkdownHeadingCollapsed": true,
    "tags": []
   },
   "source": [
    "#### Single instance"
   ]
  },
  {
   "cell_type": "code",
   "execution_count": null,
   "metadata": {},
   "outputs": [],
   "source": [
    "(empirical_delta(P) <= expected_delta).sum() / trials"
   ]
  },
  {
   "cell_type": "markdown",
   "metadata": {
    "jp-MarkdownHeadingCollapsed": true,
    "tags": []
   },
   "source": [
    "#### $t$ instances"
   ]
  },
  {
   "cell_type": "code",
   "execution_count": null,
   "metadata": {},
   "outputs": [],
   "source": [
    "max_delta = CPI.calc_d(M//t)\n",
    "max_delta"
   ]
  },
  {
   "cell_type": "code",
   "execution_count": null,
   "metadata": {},
   "outputs": [],
   "source": [
    "def random_split(a, t):\n",
    "    return np.split(rng.permutation(a), t)\n",
    "\n",
    "sum(\n",
    "    (np.array([empirical_delta(Counter(a).items(), trials=1) for a in random_split(np.repeat(P.T[0], P.T[1]), t)]).ravel() <= max_delta).all()\n",
    "    for _ in range(trials)\n",
    ") / trials"
   ]
  },
  {
   "cell_type": "markdown",
   "metadata": {
    "jp-MarkdownHeadingCollapsed": true
   },
   "source": [
    "#### $t$ instances with $p$-aware allocation"
   ]
  },
  {
   "cell_type": "code",
   "execution_count": null,
   "metadata": {},
   "outputs": [],
   "source": [
    "sum(\n",
    "    (np.array([empirical_delta(Counter(a).items(), trials=1) for a in [Counter({10:25, 90:25}) for _ in range(t)]]).ravel() <= max_delta).all()\n",
    "    for _ in range(trials)\n",
    ") / trials"
   ]
  },
  {
   "cell_type": "markdown",
   "metadata": {
    "jp-MarkdownHeadingCollapsed": true,
    "tags": []
   },
   "source": [
    "### Set $B$ is predefined"
   ]
  },
  {
   "cell_type": "code",
   "execution_count": null,
   "metadata": {},
   "outputs": [],
   "source": [
    "B = P.prod(1)//100\n",
    "B"
   ]
  },
  {
   "cell_type": "code",
   "execution_count": null,
   "metadata": {},
   "outputs": [],
   "source": [
    "a = np.repeat(P.T[0], P.T[1])\n",
    "a = np.vstack([a, np.zeros_like(a)])\n",
    "\n",
    "idx = 0\n",
    "for (p,c),b in zip(P,B):\n",
    "    a[1, idx:idx+b] = 1\n",
    "    idx+=c"
   ]
  },
  {
   "cell_type": "markdown",
   "metadata": {
    "jp-MarkdownHeadingCollapsed": true,
    "tags": []
   },
   "source": [
    "#### Single instance"
   ]
  },
  {
   "cell_type": "code",
   "execution_count": null,
   "metadata": {},
   "outputs": [],
   "source": [
    "B.sum() <= CPI.calc_d(M)"
   ]
  },
  {
   "cell_type": "markdown",
   "metadata": {
    "jp-MarkdownHeadingCollapsed": true,
    "tags": []
   },
   "source": [
    "#### $t$ instances"
   ]
  },
  {
   "cell_type": "code",
   "execution_count": null,
   "metadata": {},
   "outputs": [],
   "source": [
    "Mp = int(M*1.06)\n",
    "Mp"
   ]
  },
  {
   "cell_type": "code",
   "execution_count": null,
   "metadata": {},
   "outputs": [],
   "source": [
    "max_delta = CPI.calc_d(Mp//t)\n",
    "max_delta"
   ]
  },
  {
   "cell_type": "code",
   "execution_count": null,
   "metadata": {},
   "outputs": [],
   "source": [
    "sum(\n",
    "    (np.stack(random_split(a[1], t)).sum(1) <= max_delta).all()\n",
    "    for _ in range(trials)\n",
    ") / trials"
   ]
  },
  {
   "cell_type": "markdown",
   "metadata": {
    "jp-MarkdownHeadingCollapsed": true
   },
   "source": [
    "#### $t$ instances with $p$-aware allocation"
   ]
  },
  {
   "cell_type": "code",
   "execution_count": null,
   "metadata": {},
   "outputs": [],
   "source": [
    "def split_by_priors(a):\n",
    "    return np.split(a, np.cumsum(P[:-1,1]), axis=1)"
   ]
  },
  {
   "cell_type": "code",
   "execution_count": null,
   "metadata": {},
   "outputs": [],
   "source": [
    "sum(\n",
    "    (np.stack([np.stack(random_split(part[1], t)) for part in split_by_priors(a)]).sum(2).sum(0) <= max_delta).all()\n",
    "    for _ in range(trials)\n",
    ") / trials"
   ]
  },
  {
   "cell_type": "markdown",
   "metadata": {
    "jp-MarkdownHeadingCollapsed": true,
    "tags": []
   },
   "source": [
    "# Directly using $P(tx \\in B)$"
   ]
  },
  {
   "cell_type": "markdown",
   "metadata": {
    "jp-MarkdownHeadingCollapsed": true
   },
   "source": [
    "## Simplest setting\n",
    "One shot sending, if failed send the whole set.\n",
    "\n",
    "- $n$ - whole set size\n",
    "- $m$ - first send size\n",
    "- $d$ - the difference size $\\delta$\n",
    "- $P(F|m,d)$ - probability to fail based on $m,d$"
   ]
  }
 ],
 "metadata": {
  "kernelspec": {
   "display_name": "Python 3 (ipykernel)",
   "language": "python",
   "name": "python3"
  },
  "language_info": {
   "codemirror_mode": {
    "name": "ipython",
    "version": 3
   },
   "file_extension": ".py",
   "mimetype": "text/x-python",
   "name": "python",
   "nbconvert_exporter": "python",
   "pygments_lexer": "ipython3",
   "version": "3.10.6"
  }
 },
 "nbformat": 4,
 "nbformat_minor": 4
}
