{
 "cells": [
  {
   "cell_type": "code",
   "execution_count": null,
   "id": "f9e68125-8f69-4cbd-adc9-7550eccf6d15",
   "metadata": {
    "editable": true,
    "slideshow": {
     "slide_type": ""
    },
    "tags": []
   },
   "outputs": [],
   "source": [
    "import sys\n",
    "sys.path.append('MET_IBF')\n",
    "from collections import Counter\n",
    "from random import sample\n",
    "\n",
    "import numpy as np\n",
    "import pandas as pd\n",
    "import plotly.express as px\n",
    "px.defaults.height = 500\n",
    "\n",
    "from MET_IBF import met\n",
    "import partial_decoding as prdc"
   ]
  },
  {
   "cell_type": "code",
   "execution_count": null,
   "id": "0083b3e0-be41-46d4-9775-d5bbebb3f3ad",
   "metadata": {},
   "outputs": [],
   "source": [
    "rng = np.random.default_rng()"
   ]
  },
  {
   "cell_type": "markdown",
   "id": "d15e733d-131e-4c90-9755-db5c85601398",
   "metadata": {
    "jp-MarkdownHeadingCollapsed": true
   },
   "source": [
    "## Arbitrary distribution"
   ]
  },
  {
   "cell_type": "code",
   "execution_count": null,
   "id": "6ddd2d0e-37aa-44ba-9df7-f30aee2d54da",
   "metadata": {},
   "outputs": [],
   "source": [
    "pool_size = 1000\n",
    "log_u = 32\n",
    "p = rng.beta(2, 5, size=pool_size)\n",
    "# p = rng.uniform(size=pool_size)\n",
    "load = 1.12\n",
    "expected_set_size = p.sum()\n",
    "expected_set_size"
   ]
  },
  {
   "cell_type": "code",
   "execution_count": null,
   "id": "4d4e9c94-dd02-4ca1-8eb6-2917ae9b8cbc",
   "metadata": {},
   "outputs": [],
   "source": [
    "m = int(expected_set_size * load)\n",
    "m"
   ]
  },
  {
   "cell_type": "code",
   "execution_count": null,
   "id": "08500770-6157-452d-a82c-682f48406c0d",
   "metadata": {},
   "outputs": [],
   "source": [
    "x = np.array(sorted(sample(range(2**log_u), len(p))), dtype=int)"
   ]
  },
  {
   "cell_type": "code",
   "execution_count": null,
   "id": "2c495969-d2f0-4cc4-9c5a-6b765ef12dc8",
   "metadata": {},
   "outputs": [],
   "source": [
    "pp = p/p.sum()\n",
    "cs = np.cumsum(pp)"
   ]
  },
  {
   "cell_type": "code",
   "execution_count": null,
   "id": "9cb7fa95-3837-4676-978e-a5fed11dc00c",
   "metadata": {},
   "outputs": [],
   "source": [
    "desired_p = np.array([0.046, 0.427, 0.398, 0.129])\n",
    "deg = np.array([\n",
    "    [ 6, 3, 1, 4,],\n",
    "    [14, 0, 2, 6,],\n",
    "])\n",
    "\n",
    "m_cells = prdc.partition_m(m - prdc.extra_cells(deg.size, len(deg)), len(deg))"
   ]
  },
  {
   "cell_type": "code",
   "execution_count": null,
   "id": "92d30180-4183-4a47-b003-820e93d00191",
   "metadata": {},
   "outputs": [],
   "source": [
    "idx = np.searchsorted(cs, np.cumsum(desired_p), side='right')[:-1]\n",
    "idx"
   ]
  },
  {
   "cell_type": "code",
   "execution_count": null,
   "id": "87a7d49d-4a19-438f-a9d5-ecb20fdd30e1",
   "metadata": {},
   "outputs": [],
   "source": [
    "# Verify that the resulting probability is close enough\n",
    "# max distance between entries:\n",
    "np.abs(np.array([sum(a) for a in np.split(p, idx)])/p.sum() - desired_p).max()"
   ]
  },
  {
   "cell_type": "code",
   "execution_count": null,
   "id": "d2358bf6-f038-4e0f-8976-a2c25596a535",
   "metadata": {},
   "outputs": [],
   "source": [
    "x_boundries_by_p = x[idx]\n",
    "# Now try to split the space without knowing the probabilities\n",
    "x_boundries_by_u = np.cumsum(desired_p) * 2**log_u\n",
    "# Same, but based on the local set\n",
    "x_boundries_by_x = x[(np.cumsum(desired_p)[:-1] * len(x)).astype(int)]\n",
    "\n",
    "def gen_key2type_by_bounds(bounds):\n",
    "    return lambda x: np.searchsorted(bounds, x)"
   ]
  },
  {
   "cell_type": "code",
   "execution_count": null,
   "id": "0b1cbc5c-463d-4a45-bebb-6e8138cbadca",
   "metadata": {},
   "outputs": [],
   "source": [
    "def simulate_once():\n",
    "    # Now choose elements by their probabilites\n",
    "    selected_mask = rng.random(len(p)) < p\n",
    "    selected_x = x[selected_mask]\n",
    "\n",
    "    ibfs = {\n",
    "        'met_p': met.METIBF(deg, m_cells, gen_key2type_by_bounds(x_boundries_by_p)),\n",
    "        'met_x': met.METIBF(deg, m_cells, gen_key2type_by_bounds(x_boundries_by_x)),\n",
    "        'met_u': met.METIBF(deg, m_cells, gen_key2type_by_bounds(x_boundries_by_u)),\n",
    "        'ibf+0.0': met.IBF.create(m=m, k=3),\n",
    "        # 'ibf+8.5': met.IBF.create(m=int(m*1.085), k=3),\n",
    "    }\n",
    "\n",
    "    results = {'size': len(selected_x)}\n",
    "    for name, t in ibfs.items():\n",
    "        t.insert_from(selected_x)\n",
    "        peeled = t.peel()\n",
    "        for e in peeled:\n",
    "            assert e in selected_x\n",
    "        results[name] = len(peeled)\n",
    "\n",
    "    return results"
   ]
  },
  {
   "cell_type": "code",
   "execution_count": null,
   "id": "891e98de-0265-4e37-a6bf-0e242cad6a05",
   "metadata": {},
   "outputs": [],
   "source": [
    "%%time\n",
    "n_sim = 500\n",
    "\n",
    "df = pd.DataFrame.from_records(\n",
    "    (simulate_once() for _ in range(n_sim)),\n",
    ")"
   ]
  },
  {
   "cell_type": "code",
   "execution_count": null,
   "id": "1513b91f-40c4-45ee-baf5-b9518d783586",
   "metadata": {},
   "outputs": [],
   "source": [
    "df.mean().sort_values(ascending=False)"
   ]
  },
  {
   "cell_type": "code",
   "execution_count": null,
   "id": "5466ad8a-c54f-4d77-af39-d8f16dded5cf",
   "metadata": {},
   "outputs": [],
   "source": [
    "df.median().sort_values(ascending=False)"
   ]
  },
  {
   "cell_type": "code",
   "execution_count": null,
   "id": "309ca11c-8ade-418b-ba08-9c7f3402f581",
   "metadata": {},
   "outputs": [],
   "source": [
    "cols = df.columns[1:]\n",
    "ratio_cols = cols + '_r'\n",
    "for col, ratio_col in zip(cols, ratio_cols):\n",
    "    df[ratio_col] = df[col]/df['size']\n",
    "df[ratio_cols].mean().sort_values(ascending=False)"
   ]
  },
  {
   "cell_type": "code",
   "execution_count": null,
   "id": "9b7682b5-2658-431a-b21c-486e47819396",
   "metadata": {},
   "outputs": [],
   "source": [
    "px.ecdf(df[ratio_cols], marginal='rug')"
   ]
  },
  {
   "cell_type": "markdown",
   "id": "e5531bdb-52ca-41c8-80e6-701521d5b668",
   "metadata": {
    "jp-MarkdownHeadingCollapsed": true
   },
   "source": [
    "## Fixed distribution"
   ]
  },
  {
   "cell_type": "code",
   "execution_count": null,
   "id": "b9b77386-ce72-452e-9efe-2db6435d3f89",
   "metadata": {},
   "outputs": [],
   "source": [
    "rep = 1000\n",
    "log_u = 32\n",
    "dist = Counter({\n",
    "    .05: rep,\n",
    "    # .25: rep,\n",
    "    # .50: rep,\n",
    "    # .75: rep,\n",
    "    .95: rep,\n",
    "})\n",
    "p = np.fromiter(dist.keys(), dtype=float)\n",
    "c = np.fromiter(dist.values(), dtype=int)\n",
    "load = 1.23"
   ]
  },
  {
   "cell_type": "code",
   "execution_count": null,
   "id": "4a745c6e-8bc0-40d7-83b5-0c248585dfa0",
   "metadata": {},
   "outputs": [],
   "source": [
    "expected_set_size = p@c\n",
    "expected_set_size"
   ]
  },
  {
   "cell_type": "code",
   "execution_count": null,
   "id": "fff043ed-05d8-425b-8829-9b68ec2be55f",
   "metadata": {},
   "outputs": [],
   "source": [
    "m = int(expected_set_size * load)\n",
    "m"
   ]
  },
  {
   "cell_type": "code",
   "execution_count": null,
   "id": "133cc41c-a81a-41f8-8342-dac56f5f406a",
   "metadata": {},
   "outputs": [],
   "source": [
    "def met_config1(c, p, n, m, key2p):\n",
    "    deg = np.array([\n",
    "        [ 5,  3,  1,  1,  0,],\n",
    "        [ 5,  2,  2,  1,  1,],\n",
    "        [ 5,  2,  1,  1,  1,],\n",
    "    ])\n",
    "\n",
    "    m -= prdc.extra_cells(deg.size, len(deg))\n",
    "    m_cells = prdc.partition_m(m, len(deg))\n",
    "\n",
    "    def key2type(x):\n",
    "        return (p >= key2p[x]).argmax()\n",
    "\n",
    "    return deg, m_cells, key2type\n",
    "\n",
    "def met_config2(c, p, n, m, key2p):\n",
    "    deg = np.array([\n",
    "        [ 5,  3,  1,  2,  0,],\n",
    "        [ 9,  1,  2,  0,  1,],\n",
    "        [ 1,  3,  1,  1,  1,],\n",
    "    ])\n",
    "\n",
    "    m -= prdc.extra_cells(deg.size, len(deg))\n",
    "    m_cells = prdc.partition_m(m, len(deg))\n",
    "\n",
    "    def key2type(x):\n",
    "        return (p >= key2p[x]).argmax()\n",
    "\n",
    "    return deg, m_cells, key2type\n",
    "\n",
    "def met_config3(c, p, n, m, key2p):\n",
    "    deg = np.array([\n",
    "        [ 5, 1,],\n",
    "        [ 1, 1,],\n",
    "        [ 5, 1,],\n",
    "    ])\n",
    "\n",
    "    m_cells = np.array([467, 399, 363])\n",
    "\n",
    "    def key2type(x):\n",
    "        return (p >= key2p[x]).argmax()\n",
    "\n",
    "    return deg, m_cells, key2type\n",
    "\n",
    "\n",
    "def construct_tables(c, p, n, m, key2p) -> dict[str, met.InvertibleBloomFilterAPI]:\n",
    "    return {\n",
    "        # 'met1': met.METIBF(*met_config1(c, p, n, m, key2p)),\n",
    "        # 'met2': met.METIBF(*met_config2(c, p, n, m, key2p)),\n",
    "        'met3': met.METIBF(*met_config3(c, p, n, m, key2p)),\n",
    "        'ibf3': met.IBF.create(m, 3),\n",
    "        # 'ibf4': met.IBF.create(m, 4),\n",
    "    }\n",
    "\n",
    "def simulate_once(c, p, m):\n",
    "    n = rng.binomial(c, p)\n",
    "    \n",
    "    s = sample(range(2**log_u), n.sum())\n",
    "    keys_by_p = np.array_split(s, n.cumsum()[:-1])\n",
    "    \n",
    "    key2p = {\n",
    "        key: prob\n",
    "        for prob, keys in zip(p, keys_by_p)\n",
    "        for key in keys\n",
    "    }\n",
    "    \n",
    "    ibfs = construct_tables(c, p, n, m, key2p)\n",
    "\n",
    "    results = {'size': len(key2p)}\n",
    "    for name, t in ibfs.items():\n",
    "        t.insert_from(s)\n",
    "        peeled = t.peel()\n",
    "        for e in peeled:\n",
    "            assert e in s\n",
    "        results[name] = len(peeled)\n",
    "\n",
    "    return results"
   ]
  },
  {
   "cell_type": "markdown",
   "id": "f556f39e-9081-4964-8667-0e30ab1b4f95",
   "metadata": {
    "jp-MarkdownHeadingCollapsed": true
   },
   "source": [
    "## Simulation"
   ]
  },
  {
   "cell_type": "code",
   "execution_count": null,
   "id": "c88d036e-cd2c-44c4-b739-b09b6f744eb5",
   "metadata": {},
   "outputs": [],
   "source": [
    "%%time\n",
    "n_sim = 500\n",
    "\n",
    "df = pd.DataFrame.from_records(\n",
    "    (simulate_once(c, p, m) for _ in range(n_sim)),\n",
    ")"
   ]
  },
  {
   "cell_type": "code",
   "execution_count": null,
   "id": "97950d88-4d7f-4672-87da-3897f6ece804",
   "metadata": {},
   "outputs": [],
   "source": [
    "df.mean().sort_values(ascending=False)"
   ]
  },
  {
   "cell_type": "code",
   "execution_count": null,
   "id": "e6f4dfc2-638e-4348-a6af-84ffb3c4e2ad",
   "metadata": {},
   "outputs": [],
   "source": [
    "df.median().sort_values(ascending=False)"
   ]
  },
  {
   "cell_type": "code",
   "execution_count": null,
   "id": "6d090cf0-ed94-434a-9963-beff522eefeb",
   "metadata": {},
   "outputs": [],
   "source": [
    "cols = df.columns[1:]\n",
    "ratio_cols = cols + '_r'\n",
    "for col, ratio_col in zip(cols, ratio_cols):\n",
    "    df[ratio_col] = df[col]/df['size']\n",
    "df[ratio_cols].mean().sort_values(ascending=False)"
   ]
  },
  {
   "cell_type": "code",
   "execution_count": null,
   "id": "152788b4-831b-4844-99cd-183189e02242",
   "metadata": {},
   "outputs": [],
   "source": [
    "px.ecdf(df[ratio_cols], marginal='rug')"
   ]
  },
  {
   "cell_type": "markdown",
   "id": "27a17656-98b9-4df4-bf95-5f8bc1fbc77d",
   "metadata": {
    "jp-MarkdownHeadingCollapsed": true
   },
   "source": [
    "# Optimize deg given $p$"
   ]
  },
  {
   "cell_type": "code",
   "execution_count": null,
   "id": "066a0c2a-6c87-4a63-9310-3a7b1cd85a87",
   "metadata": {},
   "outputs": [],
   "source": [
    "from scipy.optimize import basinhopping, OptimizeResult\n",
    "\n",
    "def noop_optimizer(fun, x0, args, **options):\n",
    "    return OptimizeResult(x=x0, fun=fun(x0), success=True, nfev=1)\n",
    "\n",
    "def accept_test(f_new, x_new, f_old, x_old):\n",
    "    return f_old/f_new > 0.7\n",
    "\n",
    "def callback(x, f, accept):\n",
    "    callback.n += 1\n",
    "    if accept:\n",
    "        print(prdc.unpack(x))\n",
    "        print(f'cost={f}')\n",
    "    if (callback.n % 30) == 0:\n",
    "        print(f'called #{callback.n} times')"
   ]
  },
  {
   "cell_type": "code",
   "execution_count": null,
   "id": "f9b01b2f-b67d-410d-b354-08b7f8420b14",
   "metadata": {},
   "outputs": [],
   "source": [
    "callback.n = 0\n",
    "\n",
    "res = basinhopping(\n",
    "    func=prdc.cost,\n",
    "    x0=prdc.pack(prdc.deg, prdc.m_cells),\n",
    "    # niter=5,\n",
    "    callback=callback,\n",
    "    accept_test=accept_test,\n",
    "    take_step=prdc.MyTakeStep(\n",
    "        prdc.n_cell_types,\n",
    "        prdc.n_data_types,\n",
    "        stepsize=.25\n",
    "    ),\n",
    "    minimizer_kwargs=dict(method=noop_optimizer),\n",
    ")"
   ]
  },
  {
   "cell_type": "code",
   "execution_count": null,
   "id": "9d7c01f7-30d3-459f-a4fa-f1d1fe98831a",
   "metadata": {},
   "outputs": [],
   "source": [
    "prdc.unpack(np.array([  5.,   1.,   1.,   1.,   5.,   1., 467., 399., 363.]))"
   ]
  },
  {
   "cell_type": "code",
   "execution_count": null,
   "id": "259eac62-3758-40d2-827f-73f4bd65fab8",
   "metadata": {},
   "outputs": [],
   "source": [
    "array([  5.,   1.,   1.,   1.,   5.,   1., 467., 399., 363.])\n",
    "cost=0.021485157675628953\n",
    "\n",
    "(array([[4., 1.],\n",
    "        [0., 1.],\n",
    "        [3., 1.]]),\n",
    " array([461., 315., 453.]))\n"
   ]
  },
  {
   "cell_type": "markdown",
   "id": "65db3eaa-2807-4d29-9f9c-feb35e2e58f7",
   "metadata": {
    "jp-MarkdownHeadingCollapsed": true,
    "tags": []
   },
   "source": [
    "# Old"
   ]
  },
  {
   "cell_type": "code",
   "execution_count": null,
   "id": "78c72344-4abe-427d-a702-3d6b9aeabf55",
   "metadata": {},
   "outputs": [],
   "source": [
    "from iblt.pyblt import PYBLT as Iblt"
   ]
  },
  {
   "cell_type": "code",
   "execution_count": null,
   "id": "0a37646d-9e96-4971-be82-75a2f5d14712",
   "metadata": {},
   "outputs": [],
   "source": [
    "iblt = Iblt(value_size=0, num_hashes=4, m=32)"
   ]
  },
  {
   "cell_type": "code",
   "execution_count": null,
   "id": "2904f13b-a92b-4110-acdb-a94a622a8e02",
   "metadata": {},
   "outputs": [],
   "source": [
    "iblt.insert(15)"
   ]
  },
  {
   "cell_type": "code",
   "execution_count": null,
   "id": "445cec22-751e-43d9-8229-b4f07f3e83d6",
   "metadata": {},
   "outputs": [],
   "source": [
    "iblt.insert(152)"
   ]
  },
  {
   "cell_type": "code",
   "execution_count": null,
   "id": "32f9532b-0579-4e1a-ab9c-5f630ba663e1",
   "metadata": {},
   "outputs": [],
   "source": [
    "iblt.erase(356)"
   ]
  },
  {
   "cell_type": "code",
   "execution_count": null,
   "id": "a7850c43-1a7a-4230-87a8-1b3583a0fb6a",
   "metadata": {},
   "outputs": [],
   "source": [
    "iblt.list_entries()"
   ]
  },
  {
   "cell_type": "code",
   "execution_count": null,
   "id": "941493a4-fada-4ccc-a153-6eb55a022ba3",
   "metadata": {},
   "outputs": [],
   "source": [
    "iblt.peel()"
   ]
  },
  {
   "cell_type": "code",
   "execution_count": null,
   "id": "89f10476-1c57-4afc-8828-27c595fc1a01",
   "metadata": {},
   "outputs": [],
   "source": [
    "from random import getrandbits\n",
    "\n",
    "N = 20\n",
    "iterations = 1000\n",
    "\n",
    "def once():\n",
    "    iblt = Iblt(value_size=0, num_hashes=4, m=32)\n",
    "    for _ in range(N):\n",
    "        iblt.insert(getrandbits(16))\n",
    "    return len(iblt.peel())"
   ]
  },
  {
   "cell_type": "code",
   "execution_count": null,
   "id": "c68f488d-8a48-4cdb-8e3f-4c6574df2c34",
   "metadata": {},
   "outputs": [],
   "source": [
    "import itertools"
   ]
  },
  {
   "cell_type": "code",
   "execution_count": null,
   "id": "213c20af-eb6e-4802-b461-05d9dc35399b",
   "metadata": {},
   "outputs": [],
   "source": [
    "import numpy as np"
   ]
  },
  {
   "cell_type": "code",
   "execution_count": null,
   "id": "91db567d-3b26-439f-bcb2-92be9605529c",
   "metadata": {},
   "outputs": [],
   "source": [
    "sum(map(lambda x: once(), range(iterations)))/iterations"
   ]
  },
  {
   "cell_type": "code",
   "execution_count": null,
   "id": "a31ac831-7cbe-4975-a49b-fca8d11ff762",
   "metadata": {},
   "outputs": [],
   "source": [
    "import fpfz\n",
    "import numpy as np"
   ]
  },
  {
   "cell_type": "code",
   "execution_count": null,
   "id": "068e2608-e328-46e1-8a48-d757c1592ebd",
   "metadata": {},
   "outputs": [],
   "source": [
    "uc = fpfz.UniverseSizeCalculator()\n",
    "mc = fpfz.MemoryCalculator(uc=uc)\n",
    "mg = fpfz.MatrixGenerator(uc=uc, mc=mc)\n",
    "\n",
    "rng = np.random.default_rng()"
   ]
  },
  {
   "cell_type": "code",
   "execution_count": null,
   "id": "49969a29-a5bf-4f20-bd1a-ec0459ddd995",
   "metadata": {},
   "outputs": [],
   "source": [
    "n=1000\n",
    "m=30\n",
    "k=4\n",
    "d=3\n",
    "\n",
    "while len(mx := np.unique(mg.random_iblt(m=m, n=3*n//2, k=k), axis=0)) < n:\n",
    "    continue\n",
    "\n",
    "mx = rng.choice(mx, size=n, replace=False)"
   ]
  },
  {
   "cell_type": "code",
   "execution_count": null,
   "id": "7ee3e5ce-ff82-4a15-ab7d-a8873e78bba9",
   "metadata": {},
   "outputs": [],
   "source": [
    "def generate_examples(mx, d, n_examples):\n",
    "    label = np.array([\n",
    "        rng.choice(mx.shape[0], d, replace=False, shuffle=False)\n",
    "        for _ in range(n_examples)\n",
    "    ])\n",
    "    X = mx[label].sum(1)\n",
    "    Y = np.zeros((n_examples, n))\n",
    "    np.put_along_axis(Y, label, 1, axis=1)\n",
    "    return X,Y,label"
   ]
  },
  {
   "cell_type": "code",
   "execution_count": null,
   "id": "87b2960c-21ac-4011-b1bc-6e15afd31f10",
   "metadata": {},
   "outputs": [],
   "source": [
    "import torch"
   ]
  },
  {
   "cell_type": "code",
   "execution_count": null,
   "id": "33a0e323-5d9e-4744-b8f1-06fa6ebf37ce",
   "metadata": {},
   "outputs": [],
   "source": [
    "class NeuralNetwork(torch.nn.Module):\n",
    "    def __init__(self, m, n):\n",
    "        super().__init__()\n",
    "               \n",
    "        self.linear_relu_stack = torch.nn.Sequential(\n",
    "            torch.nn.Linear(m, 1024),\n",
    "            torch.nn.ReLU(),\n",
    "            torch.nn.Linear(1024, 1024),\n",
    "            torch.nn.ReLU(),\n",
    "            torch.nn.Linear(1024, n),\n",
    "            torch.nn.Softmax(dim=1),\n",
    "        )\n",
    "\n",
    "    def forward(self, x):\n",
    "        return self.linear_relu_stack(x)"
   ]
  },
  {
   "cell_type": "code",
   "execution_count": null,
   "id": "4ec16d2a-6851-4418-b440-bc1ff6fbe36f",
   "metadata": {},
   "outputs": [],
   "source": [
    "model = NeuralNetwork(m=m, n=n)"
   ]
  },
  {
   "cell_type": "code",
   "execution_count": null,
   "id": "26cd387e-f494-48d1-a945-6ce45f496a6e",
   "metadata": {},
   "outputs": [],
   "source": [
    "loss_fn = torch.nn.MultiLabelMarginLoss()\n",
    "optimizer = torch.optim.Adagrad(model.parameters())"
   ]
  },
  {
   "cell_type": "code",
   "execution_count": null,
   "id": "941104af-0dac-400f-aa3e-9bb8e5749dae",
   "metadata": {},
   "outputs": [],
   "source": [
    "model.train()"
   ]
  },
  {
   "cell_type": "code",
   "execution_count": null,
   "id": "17872317-031d-45d7-a9cb-2c1d742e81fd",
   "metadata": {
    "tags": []
   },
   "outputs": [],
   "source": [
    "for _ in range(1024):\n",
    "    X, Y, label = generate_examples(mx, d, 2**10)\n",
    "    X = torch.from_numpy(X).float()\n",
    "    Y = torch.from_numpy(Y)\n",
    "    label = torch.from_numpy(label)\n",
    "    y = torch.zeros_like(Y, dtype=torch.long)\n",
    "    y[:, 0:d] = label\n",
    "    y[:, d] = -1\n",
    "\n",
    "    pred = model(X)\n",
    "    loss = loss_fn(pred, y)\n",
    "    \n",
    "    optimizer.zero_grad()\n",
    "    loss.backward()\n",
    "    optimizer.step()\n",
    "    \n",
    "    print(loss.item())"
   ]
  },
  {
   "cell_type": "code",
   "execution_count": null,
   "id": "9f203b86-f069-4f33-bb43-be151a8a8948",
   "metadata": {},
   "outputs": [],
   "source": [
    "mx"
   ]
  },
  {
   "cell_type": "code",
   "execution_count": null,
   "id": "a71d045f-a0a8-40f5-b7cc-7275f1b48d01",
   "metadata": {},
   "outputs": [],
   "source": [
    "generate_examples(mx, 3, 1)"
   ]
  },
  {
   "cell_type": "code",
   "execution_count": null,
   "id": "82b77584-f84d-4490-bba7-59e5a076797b",
   "metadata": {},
   "outputs": [],
   "source": [
    "mx[[7, 5, 3]]"
   ]
  },
  {
   "cell_type": "code",
   "execution_count": null,
   "id": "3184cd97-e7cc-4ead-9d11-098306acf261",
   "metadata": {},
   "outputs": [],
   "source": [
    "r = model(torch.FloatTensor([[1, 1, 1, 2, 2, 2]])).detach()"
   ]
  },
  {
   "cell_type": "code",
   "execution_count": null,
   "id": "fb1369ec-3a5d-4cd9-a555-2a209a3fb050",
   "metadata": {},
   "outputs": [],
   "source": [
    "r.sort().indices[0, -3:]"
   ]
  },
  {
   "cell_type": "code",
   "execution_count": null,
   "id": "b112e86b-8afa-400d-b22a-8b69c5a9f250",
   "metadata": {},
   "outputs": [],
   "source": []
  }
 ],
 "metadata": {
  "kernelspec": {
   "display_name": "Python 3 (ipykernel)",
   "language": "python",
   "name": "python3"
  },
  "language_info": {
   "codemirror_mode": {
    "name": "ipython",
    "version": 3
   },
   "file_extension": ".py",
   "mimetype": "text/x-python",
   "name": "python",
   "nbconvert_exporter": "python",
   "pygments_lexer": "ipython3",
   "version": "3.10.6"
  }
 },
 "nbformat": 4,
 "nbformat_minor": 5
}
