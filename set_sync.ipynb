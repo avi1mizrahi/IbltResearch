{
 "cells": [
  {
   "cell_type": "markdown",
   "id": "e8171bc7-b474-43a4-8e51-866ae53c01ee",
   "metadata": {
    "tags": []
   },
   "source": [
    "## $B \\subseteq A$\n",
    "\n",
    "$|A|=n_A$\n",
    "\n",
    "$|B|=n_B$\n",
    "\n",
    "$I>1$ is the IBLT factor, $P_F(I)$ is the failure probability for IBLT with factor $I$."
   ]
  },
  {
   "cell_type": "code",
   "execution_count": null,
   "id": "58dfa45b-78e4-4f52-92dc-0f63b50d0e14",
   "metadata": {},
   "outputs": [],
   "source": [
    "import pandas as pd\n",
    "import numpy as np\n",
    "import plotly.express as px\n",
    "import plotly.graph_objects as go\n",
    "px.defaults.height = 600\n",
    "\n",
    "import IBLT_success_rates as Icalc\n",
    "\n",
    "cell_size=8"
   ]
  },
  {
   "cell_type": "code",
   "execution_count": null,
   "id": "b4804109-8c54-405b-81db-1f685339e0f7",
   "metadata": {},
   "outputs": [],
   "source": [
    "df = pd.read_csv('csv/IBLT_decoding_stats.csv')\n",
    "df['p_success'] = df.n_success / df.reps\n",
    "df['p_fail'] = 1 - df['p_success']\n",
    "df['table_size'] = df.m * cell_size\n",
    "df = df[df.log_n==32]\n",
    "df['r'] = df.m/df.N\n",
    "df['logN'] = df.N.apply('log2')\n",
    "df = df[df.k == 5]\n",
    "df.drop(columns=['reps', 'n_success', 'log_n', 'k'], inplace=True)\n",
    "df"
   ]
  },
  {
   "cell_type": "code",
   "execution_count": null,
   "id": "d0668784-50b1-4a30-b9b0-d23885c86694",
   "metadata": {},
   "outputs": [],
   "source": [
    "px.scatter(\n",
    "    df[\n",
    "        (df.N > 100) &\n",
    "        (df.r < 2.2) &\n",
    "        (df.N == df.N)\n",
    "    ], \n",
    "    x='r',\n",
    "    y='p_fail',\n",
    "    # y='p_success',\n",
    "    color='N',\n",
    "    log_y=True,\n",
    "    template='presentation',\n",
    "    labels={\n",
    "        'p_fail': 'failure probability',\n",
    "        'N': '𝛿',\n",
    "    }\n",
    ")"
   ]
  },
  {
   "cell_type": "code",
   "execution_count": null,
   "id": "914a925e-ed10-4595-8cb4-62085aa43dbb",
   "metadata": {},
   "outputs": [],
   "source": [
    "all_Ns = df.N.unique()\n",
    "dividable_Ns = set(all_Ns * 2) & set(all_Ns)"
   ]
  },
  {
   "cell_type": "code",
   "execution_count": null,
   "id": "0a17cf7c-77a2-400a-96b6-d3886dd62f5f",
   "metadata": {},
   "outputs": [],
   "source": [
    "f = go.Figure()\n",
    "\n",
    "# N = 8192\n",
    "# N = 4096\n",
    "N = 2048\n",
    "# N = 512\n",
    "\n",
    "df1 = df[df.N==N]\n",
    "df2 = df[df.N==N//2]\n",
    "\n",
    "f.add_scatter(x=df1.r, y=df1.p_fail        , mode='markers', fillcolor='red' , name='Single')\n",
    "f.add_scatter(x=df2.r, y=1-df2.p_success**2, mode='markers', fillcolor='blue', name='Split')\n",
    "f.update_yaxes(type=\"log\")"
   ]
  },
  {
   "cell_type": "markdown",
   "id": "15f1b5f0-f106-4bd8-87de-ae29f61d4f79",
   "metadata": {},
   "source": [
    "# 1st IBLT, 2nd whole set"
   ]
  },
  {
   "cell_type": "code",
   "execution_count": null,
   "id": "9dc0b89f-e752-4b94-9cbd-dea768c4caec",
   "metadata": {},
   "outputs": [],
   "source": [
    "n1 = n2 = 512\n",
    "n = n1 + n2\n"
   ]
  },
  {
   "cell_type": "code",
   "execution_count": null,
   "id": "457acf1e-2479-433c-abe2-b975ace26abb",
   "metadata": {},
   "outputs": [],
   "source": [
    "df[()]"
   ]
  },
  {
   "cell_type": "markdown",
   "id": "d67cdc3c-a644-4cda-a547-c496c23a4e15",
   "metadata": {
    "jp-MarkdownHeadingCollapsed": true,
    "tags": []
   },
   "source": [
    "# Calc IBLT successes for a specific set of params"
   ]
  },
  {
   "cell_type": "code",
   "execution_count": null,
   "id": "51678aeb-ad8f-4e0a-9aaa-53637e36a1e4",
   "metadata": {},
   "outputs": [],
   "source": [
    "N=8192\n",
    "m=10000\n",
    "k=5\n",
    "reps=1000"
   ]
  },
  {
   "cell_type": "code",
   "execution_count": null,
   "id": "e591b72d-236e-4c84-8679-daea4f9c85bd",
   "metadata": {},
   "outputs": [],
   "source": [
    "res=[]\n",
    "for c in np.linspace(2.5, 3, 3):\n",
    "    m=int(N*c)\n",
    "    print(f'====== {c=}, {m=} ======')\n",
    "    %time res.append(Icalc.calc_successes(m=m, k=k, log_n=32, N=N, reps=reps))"
   ]
  },
  {
   "cell_type": "markdown",
   "id": "19cde876-932c-44e9-9946-6b0a4ca0d766",
   "metadata": {
    "jp-MarkdownHeadingCollapsed": true,
    "tags": []
   },
   "source": [
    "# Update csv with new experiments"
   ]
  },
  {
   "cell_type": "code",
   "execution_count": null,
   "id": "20c5a33c-7ea8-4720-b36c-6296c1e0631d",
   "metadata": {},
   "outputs": [],
   "source": [
    "def merge_decoding_stats_csvs(paths, out_path):\n",
    "    pd.concat(\n",
    "        map(pd.read_csv, paths),\n",
    "        ignore_index=True\n",
    "    ).groupby(['m', 'k', 'log_n', 'N']).sum().reset_index().to_csv(out_path, index=False)"
   ]
  },
  {
   "cell_type": "code",
   "execution_count": null,
   "id": "3f561c35-3af7-4972-9e4e-a284cf5443c6",
   "metadata": {},
   "outputs": [],
   "source": [
    "main_csv = 'csv/IBLT_decoding_stats.csv'\n",
    "new_csv = 'IBLT_decoding_stats.csv'\n",
    "merge_decoding_stats_csvs([main_csv, new_csv], main_csv)"
   ]
  }
 ],
 "metadata": {
  "kernelspec": {
   "display_name": "Python 3 (ipykernel)",
   "language": "python",
   "name": "python3"
  },
  "language_info": {
   "codemirror_mode": {
    "name": "ipython",
    "version": 3
   },
   "file_extension": ".py",
   "mimetype": "text/x-python",
   "name": "python",
   "nbconvert_exporter": "python",
   "pygments_lexer": "ipython3",
   "version": "3.8.0"
  }
 },
 "nbformat": 4,
 "nbformat_minor": 5
}
